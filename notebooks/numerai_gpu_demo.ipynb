{
  "cells": [
    {
      "cell_type": "markdown",
      "metadata": {
        "id": "40pDPuy1pxy6"
      },
      "source": [
        "[![Open In Colab](https://colab.research.google.com/assets/colab-badge.svg)](https://colab.research.google.com/github/Pranshu-Bahadur/PackBoost/blob/main/notebooks/numerai_gpu_demo.ipynb)\n"
      ],
      "id": "40pDPuy1pxy6"
    },
    {
      "cell_type": "markdown",
      "metadata": {
        "id": "Tov5riA0pxy7"
      },
      "source": [
        "# PackBoost Numerai GPU Demo\n",
        "\n",
        "Train PackBoost on Numerai v5.0 with CUDA frontier enabled, bucket eras into user-defined\n",
        "groups, and monitor per-round train/validation correlation as well as trees-per-second.\n"
      ],
      "id": "Tov5riA0pxy7"
    },
    {
      "cell_type": "code",
      "source": [
        "import os\n",
        "os.environ[\"CUDA_LAUNCH_BLOCKING\"]=\"1\"\n",
        "os.environ[\"TORCH_USE_CUDA_DSA\"]=\"1\""
      ],
      "metadata": {
        "id": "-DQ6KkJwx_AW"
      },
      "id": "-DQ6KkJwx_AW",
      "execution_count": 1,
      "outputs": []
    },
    {
      "cell_type": "code",
      "source": [
        "%cd PackBoost"
      ],
      "metadata": {
        "colab": {
          "base_uri": "https://localhost:8080/"
        },
        "id": "kUrjwmgMzNWt",
        "outputId": "224b4c12-c51d-4ba6-f284-d5b4ab14d857"
      },
      "id": "kUrjwmgMzNWt",
      "execution_count": 1,
      "outputs": [
        {
          "output_type": "stream",
          "name": "stdout",
          "text": [
            "/content/PackBoost\n"
          ]
        }
      ]
    },
    {
      "cell_type": "code",
      "source": [
        "!python examples/hull_benchmark.py  --data datasets/train.csv --era-size 1 --holdout-eras 180 --to-signal-mult 400 --lastn 180  --impute ffill --target-col forward_excess --fx-groups '' --des-off --efb-disable"
      ],
      "metadata": {
        "colab": {
          "base_uri": "https://localhost:8080/"
        },
        "id": "YOvqe4nOzQfe",
        "outputId": "490e5b39-d696-493a-8cfb-eaefcbfff3f5"
      },
      "id": "YOvqe4nOzQfe",
      "execution_count": 3,
      "outputs": [
        {
          "output_type": "stream",
          "name": "stdout",
          "text": [
            "Data: rows=8,990, base features=94, engineered+base=94, unique raw eras=8990, unique bucketed eras=1\n",
            "Era mode: DES-OFF (single era) | Target: market_forward_excess_returns\n",
            "Engineered on groups: []\n",
            "Impute: ffill\n",
            "DES-OFF row split: train=8810, test=180 (holdout_frac=0.02)\n",
            "EFB (PackBoost): DISABLED.\n",
            "/content/PackBoost/examples/hull_benchmark.py:73: DeprecationWarning: DataFrameGroupBy.apply operated on the grouping columns. This behavior is deprecated, and in a future version of pandas the grouping columns will be excluded from the operation. Either pass `include_groups=False` to exclude the groupings or explicitly select the grouping columns after groupby to silence this warning.\n",
            "  cors = df.groupby(\"era\", sort=False).apply(\n",
            "/content/PackBoost/examples/hull_benchmark.py:73: DeprecationWarning: DataFrameGroupBy.apply operated on the grouping columns. This behavior is deprecated, and in a future version of pandas the grouping columns will be excluded from the operation. Either pass `include_groups=False` to exclude the groupings or explicitly select the grouping columns after groupby to silence this warning.\n",
            "  cors = df.groupby(\"era\", sort=False).apply(\n",
            "/content/PackBoost/examples/hull_benchmark.py:73: DeprecationWarning: DataFrameGroupBy.apply operated on the grouping columns. This behavior is deprecated, and in a future version of pandas the grouping columns will be excluded from the operation. Either pass `include_groups=False` to exclude the groupings or explicitly select the grouping columns after groupby to silence this warning.\n",
            "  cors = df.groupby(\"era\", sort=False).apply(\n",
            "Skipping CatBoost (not installed).\n",
            "\n",
            "Model         Fit (s)   Predict (s)     R^2   EraMeanCorr   EraSharpe   LastNSharpe   HullPenalized\n",
            "--------------------------------------------------------------------------------------------------------------\n",
            "PackBoost       5.306        2.124  -0.0109      -0.0643         nan        0.2790        0.1564\n",
            "XGBoost         0.845        0.002  -0.3028      -0.0113         nan        0.2162        0.0251\n",
            "LightGBM        0.958        0.004  -0.1286       0.0882         nan        0.4361        0.1788\n"
          ]
        }
      ]
    },
    {
      "cell_type": "code",
      "source": [
        "!python examples/hull_benchmark.py  --data datasets/train.csv --era-size 180 --holdout-eras 1 --to-signal-mult 1600 --lastn 180  --impute ffill --target-col forward_excess"
      ],
      "metadata": {
        "id": "Y3OmzFcYIc1D",
        "outputId": "6696f637-468a-4dfb-b7cd-2930733310b8",
        "colab": {
          "base_uri": "https://localhost:8080/"
        }
      },
      "id": "Y3OmzFcYIc1D",
      "execution_count": 6,
      "outputs": [
        {
          "output_type": "stream",
          "name": "stdout",
          "text": [
            "/content/PackBoost/examples/hull_benchmark.py:180: PerformanceWarning: DataFrame is highly fragmented.  This is usually the result of calling `frame.insert` many times, which has poor performance.  Consider joining all columns at once using pd.concat(axis=1) instead. To get a de-fragmented frame, use `newframe = frame.copy()`\n",
            "  df[c + f\"_mom{window_mom}\"] = mom.astype(np.float32)\n",
            "/content/PackBoost/examples/hull_benchmark.py:169: PerformanceWarning: DataFrame is highly fragmented.  This is usually the result of calling `frame.insert` many times, which has poor performance.  Consider joining all columns at once using pd.concat(axis=1) instead. To get a de-fragmented frame, use `newframe = frame.copy()`\n",
            "  df[c + f\"_lag1\"] = s.shift(1)\n",
            "/content/PackBoost/examples/hull_benchmark.py:175: PerformanceWarning: DataFrame is highly fragmented.  This is usually the result of calling `frame.insert` many times, which has poor performance.  Consider joining all columns at once using pd.concat(axis=1) instead. To get a de-fragmented frame, use `newframe = frame.copy()`\n",
            "  df[c + f\"_z{window_z}\"] = z.astype(np.float32)\n",
            "/content/PackBoost/examples/hull_benchmark.py:180: PerformanceWarning: DataFrame is highly fragmented.  This is usually the result of calling `frame.insert` many times, which has poor performance.  Consider joining all columns at once using pd.concat(axis=1) instead. To get a de-fragmented frame, use `newframe = frame.copy()`\n",
            "  df[c + f\"_mom{window_mom}\"] = mom.astype(np.float32)\n",
            "/content/PackBoost/examples/hull_benchmark.py:169: PerformanceWarning: DataFrame is highly fragmented.  This is usually the result of calling `frame.insert` many times, which has poor performance.  Consider joining all columns at once using pd.concat(axis=1) instead. To get a de-fragmented frame, use `newframe = frame.copy()`\n",
            "  df[c + f\"_lag1\"] = s.shift(1)\n",
            "/content/PackBoost/examples/hull_benchmark.py:175: PerformanceWarning: DataFrame is highly fragmented.  This is usually the result of calling `frame.insert` many times, which has poor performance.  Consider joining all columns at once using pd.concat(axis=1) instead. To get a de-fragmented frame, use `newframe = frame.copy()`\n",
            "  df[c + f\"_z{window_z}\"] = z.astype(np.float32)\n",
            "/content/PackBoost/examples/hull_benchmark.py:180: PerformanceWarning: DataFrame is highly fragmented.  This is usually the result of calling `frame.insert` many times, which has poor performance.  Consider joining all columns at once using pd.concat(axis=1) instead. To get a de-fragmented frame, use `newframe = frame.copy()`\n",
            "  df[c + f\"_mom{window_mom}\"] = mom.astype(np.float32)\n",
            "/content/PackBoost/examples/hull_benchmark.py:169: PerformanceWarning: DataFrame is highly fragmented.  This is usually the result of calling `frame.insert` many times, which has poor performance.  Consider joining all columns at once using pd.concat(axis=1) instead. To get a de-fragmented frame, use `newframe = frame.copy()`\n",
            "  df[c + f\"_lag1\"] = s.shift(1)\n",
            "/content/PackBoost/examples/hull_benchmark.py:175: PerformanceWarning: DataFrame is highly fragmented.  This is usually the result of calling `frame.insert` many times, which has poor performance.  Consider joining all columns at once using pd.concat(axis=1) instead. To get a de-fragmented frame, use `newframe = frame.copy()`\n",
            "  df[c + f\"_z{window_z}\"] = z.astype(np.float32)\n",
            "/content/PackBoost/examples/hull_benchmark.py:180: PerformanceWarning: DataFrame is highly fragmented.  This is usually the result of calling `frame.insert` many times, which has poor performance.  Consider joining all columns at once using pd.concat(axis=1) instead. To get a de-fragmented frame, use `newframe = frame.copy()`\n",
            "  df[c + f\"_mom{window_mom}\"] = mom.astype(np.float32)\n",
            "/content/PackBoost/examples/hull_benchmark.py:169: PerformanceWarning: DataFrame is highly fragmented.  This is usually the result of calling `frame.insert` many times, which has poor performance.  Consider joining all columns at once using pd.concat(axis=1) instead. To get a de-fragmented frame, use `newframe = frame.copy()`\n",
            "  df[c + f\"_lag1\"] = s.shift(1)\n",
            "/content/PackBoost/examples/hull_benchmark.py:175: PerformanceWarning: DataFrame is highly fragmented.  This is usually the result of calling `frame.insert` many times, which has poor performance.  Consider joining all columns at once using pd.concat(axis=1) instead. To get a de-fragmented frame, use `newframe = frame.copy()`\n",
            "  df[c + f\"_z{window_z}\"] = z.astype(np.float32)\n",
            "/content/PackBoost/examples/hull_benchmark.py:180: PerformanceWarning: DataFrame is highly fragmented.  This is usually the result of calling `frame.insert` many times, which has poor performance.  Consider joining all columns at once using pd.concat(axis=1) instead. To get a de-fragmented frame, use `newframe = frame.copy()`\n",
            "  df[c + f\"_mom{window_mom}\"] = mom.astype(np.float32)\n",
            "/content/PackBoost/examples/hull_benchmark.py:169: PerformanceWarning: DataFrame is highly fragmented.  This is usually the result of calling `frame.insert` many times, which has poor performance.  Consider joining all columns at once using pd.concat(axis=1) instead. To get a de-fragmented frame, use `newframe = frame.copy()`\n",
            "  df[c + f\"_lag1\"] = s.shift(1)\n",
            "/content/PackBoost/examples/hull_benchmark.py:175: PerformanceWarning: DataFrame is highly fragmented.  This is usually the result of calling `frame.insert` many times, which has poor performance.  Consider joining all columns at once using pd.concat(axis=1) instead. To get a de-fragmented frame, use `newframe = frame.copy()`\n",
            "  df[c + f\"_z{window_z}\"] = z.astype(np.float32)\n",
            "/content/PackBoost/examples/hull_benchmark.py:180: PerformanceWarning: DataFrame is highly fragmented.  This is usually the result of calling `frame.insert` many times, which has poor performance.  Consider joining all columns at once using pd.concat(axis=1) instead. To get a de-fragmented frame, use `newframe = frame.copy()`\n",
            "  df[c + f\"_mom{window_mom}\"] = mom.astype(np.float32)\n",
            "/content/PackBoost/examples/hull_benchmark.py:169: PerformanceWarning: DataFrame is highly fragmented.  This is usually the result of calling `frame.insert` many times, which has poor performance.  Consider joining all columns at once using pd.concat(axis=1) instead. To get a de-fragmented frame, use `newframe = frame.copy()`\n",
            "  df[c + f\"_lag1\"] = s.shift(1)\n",
            "/content/PackBoost/examples/hull_benchmark.py:175: PerformanceWarning: DataFrame is highly fragmented.  This is usually the result of calling `frame.insert` many times, which has poor performance.  Consider joining all columns at once using pd.concat(axis=1) instead. To get a de-fragmented frame, use `newframe = frame.copy()`\n",
            "  df[c + f\"_z{window_z}\"] = z.astype(np.float32)\n",
            "/content/PackBoost/examples/hull_benchmark.py:180: PerformanceWarning: DataFrame is highly fragmented.  This is usually the result of calling `frame.insert` many times, which has poor performance.  Consider joining all columns at once using pd.concat(axis=1) instead. To get a de-fragmented frame, use `newframe = frame.copy()`\n",
            "  df[c + f\"_mom{window_mom}\"] = mom.astype(np.float32)\n",
            "/content/PackBoost/examples/hull_benchmark.py:169: PerformanceWarning: DataFrame is highly fragmented.  This is usually the result of calling `frame.insert` many times, which has poor performance.  Consider joining all columns at once using pd.concat(axis=1) instead. To get a de-fragmented frame, use `newframe = frame.copy()`\n",
            "  df[c + f\"_lag1\"] = s.shift(1)\n",
            "/content/PackBoost/examples/hull_benchmark.py:175: PerformanceWarning: DataFrame is highly fragmented.  This is usually the result of calling `frame.insert` many times, which has poor performance.  Consider joining all columns at once using pd.concat(axis=1) instead. To get a de-fragmented frame, use `newframe = frame.copy()`\n",
            "  df[c + f\"_z{window_z}\"] = z.astype(np.float32)\n",
            "/content/PackBoost/examples/hull_benchmark.py:180: PerformanceWarning: DataFrame is highly fragmented.  This is usually the result of calling `frame.insert` many times, which has poor performance.  Consider joining all columns at once using pd.concat(axis=1) instead. To get a de-fragmented frame, use `newframe = frame.copy()`\n",
            "  df[c + f\"_mom{window_mom}\"] = mom.astype(np.float32)\n",
            "/content/PackBoost/examples/hull_benchmark.py:169: PerformanceWarning: DataFrame is highly fragmented.  This is usually the result of calling `frame.insert` many times, which has poor performance.  Consider joining all columns at once using pd.concat(axis=1) instead. To get a de-fragmented frame, use `newframe = frame.copy()`\n",
            "  df[c + f\"_lag1\"] = s.shift(1)\n",
            "/content/PackBoost/examples/hull_benchmark.py:175: PerformanceWarning: DataFrame is highly fragmented.  This is usually the result of calling `frame.insert` many times, which has poor performance.  Consider joining all columns at once using pd.concat(axis=1) instead. To get a de-fragmented frame, use `newframe = frame.copy()`\n",
            "  df[c + f\"_z{window_z}\"] = z.astype(np.float32)\n",
            "/content/PackBoost/examples/hull_benchmark.py:180: PerformanceWarning: DataFrame is highly fragmented.  This is usually the result of calling `frame.insert` many times, which has poor performance.  Consider joining all columns at once using pd.concat(axis=1) instead. To get a de-fragmented frame, use `newframe = frame.copy()`\n",
            "  df[c + f\"_mom{window_mom}\"] = mom.astype(np.float32)\n",
            "/content/PackBoost/examples/hull_benchmark.py:169: PerformanceWarning: DataFrame is highly fragmented.  This is usually the result of calling `frame.insert` many times, which has poor performance.  Consider joining all columns at once using pd.concat(axis=1) instead. To get a de-fragmented frame, use `newframe = frame.copy()`\n",
            "  df[c + f\"_lag1\"] = s.shift(1)\n",
            "/content/PackBoost/examples/hull_benchmark.py:175: PerformanceWarning: DataFrame is highly fragmented.  This is usually the result of calling `frame.insert` many times, which has poor performance.  Consider joining all columns at once using pd.concat(axis=1) instead. To get a de-fragmented frame, use `newframe = frame.copy()`\n",
            "  df[c + f\"_z{window_z}\"] = z.astype(np.float32)\n",
            "/content/PackBoost/examples/hull_benchmark.py:180: PerformanceWarning: DataFrame is highly fragmented.  This is usually the result of calling `frame.insert` many times, which has poor performance.  Consider joining all columns at once using pd.concat(axis=1) instead. To get a de-fragmented frame, use `newframe = frame.copy()`\n",
            "  df[c + f\"_mom{window_mom}\"] = mom.astype(np.float32)\n",
            "/content/PackBoost/examples/hull_benchmark.py:169: PerformanceWarning: DataFrame is highly fragmented.  This is usually the result of calling `frame.insert` many times, which has poor performance.  Consider joining all columns at once using pd.concat(axis=1) instead. To get a de-fragmented frame, use `newframe = frame.copy()`\n",
            "  df[c + f\"_lag1\"] = s.shift(1)\n",
            "/content/PackBoost/examples/hull_benchmark.py:175: PerformanceWarning: DataFrame is highly fragmented.  This is usually the result of calling `frame.insert` many times, which has poor performance.  Consider joining all columns at once using pd.concat(axis=1) instead. To get a de-fragmented frame, use `newframe = frame.copy()`\n",
            "  df[c + f\"_z{window_z}\"] = z.astype(np.float32)\n",
            "/content/PackBoost/examples/hull_benchmark.py:180: PerformanceWarning: DataFrame is highly fragmented.  This is usually the result of calling `frame.insert` many times, which has poor performance.  Consider joining all columns at once using pd.concat(axis=1) instead. To get a de-fragmented frame, use `newframe = frame.copy()`\n",
            "  df[c + f\"_mom{window_mom}\"] = mom.astype(np.float32)\n",
            "/content/PackBoost/examples/hull_benchmark.py:169: PerformanceWarning: DataFrame is highly fragmented.  This is usually the result of calling `frame.insert` many times, which has poor performance.  Consider joining all columns at once using pd.concat(axis=1) instead. To get a de-fragmented frame, use `newframe = frame.copy()`\n",
            "  df[c + f\"_lag1\"] = s.shift(1)\n",
            "/content/PackBoost/examples/hull_benchmark.py:175: PerformanceWarning: DataFrame is highly fragmented.  This is usually the result of calling `frame.insert` many times, which has poor performance.  Consider joining all columns at once using pd.concat(axis=1) instead. To get a de-fragmented frame, use `newframe = frame.copy()`\n",
            "  df[c + f\"_z{window_z}\"] = z.astype(np.float32)\n",
            "/content/PackBoost/examples/hull_benchmark.py:180: PerformanceWarning: DataFrame is highly fragmented.  This is usually the result of calling `frame.insert` many times, which has poor performance.  Consider joining all columns at once using pd.concat(axis=1) instead. To get a de-fragmented frame, use `newframe = frame.copy()`\n",
            "  df[c + f\"_mom{window_mom}\"] = mom.astype(np.float32)\n",
            "/content/PackBoost/examples/hull_benchmark.py:169: PerformanceWarning: DataFrame is highly fragmented.  This is usually the result of calling `frame.insert` many times, which has poor performance.  Consider joining all columns at once using pd.concat(axis=1) instead. To get a de-fragmented frame, use `newframe = frame.copy()`\n",
            "  df[c + f\"_lag1\"] = s.shift(1)\n",
            "/content/PackBoost/examples/hull_benchmark.py:175: PerformanceWarning: DataFrame is highly fragmented.  This is usually the result of calling `frame.insert` many times, which has poor performance.  Consider joining all columns at once using pd.concat(axis=1) instead. To get a de-fragmented frame, use `newframe = frame.copy()`\n",
            "  df[c + f\"_z{window_z}\"] = z.astype(np.float32)\n",
            "/content/PackBoost/examples/hull_benchmark.py:180: PerformanceWarning: DataFrame is highly fragmented.  This is usually the result of calling `frame.insert` many times, which has poor performance.  Consider joining all columns at once using pd.concat(axis=1) instead. To get a de-fragmented frame, use `newframe = frame.copy()`\n",
            "  df[c + f\"_mom{window_mom}\"] = mom.astype(np.float32)\n",
            "/content/PackBoost/examples/hull_benchmark.py:169: PerformanceWarning: DataFrame is highly fragmented.  This is usually the result of calling `frame.insert` many times, which has poor performance.  Consider joining all columns at once using pd.concat(axis=1) instead. To get a de-fragmented frame, use `newframe = frame.copy()`\n",
            "  df[c + f\"_lag1\"] = s.shift(1)\n",
            "/content/PackBoost/examples/hull_benchmark.py:175: PerformanceWarning: DataFrame is highly fragmented.  This is usually the result of calling `frame.insert` many times, which has poor performance.  Consider joining all columns at once using pd.concat(axis=1) instead. To get a de-fragmented frame, use `newframe = frame.copy()`\n",
            "  df[c + f\"_z{window_z}\"] = z.astype(np.float32)\n",
            "/content/PackBoost/examples/hull_benchmark.py:180: PerformanceWarning: DataFrame is highly fragmented.  This is usually the result of calling `frame.insert` many times, which has poor performance.  Consider joining all columns at once using pd.concat(axis=1) instead. To get a de-fragmented frame, use `newframe = frame.copy()`\n",
            "  df[c + f\"_mom{window_mom}\"] = mom.astype(np.float32)\n",
            "/content/PackBoost/examples/hull_benchmark.py:169: PerformanceWarning: DataFrame is highly fragmented.  This is usually the result of calling `frame.insert` many times, which has poor performance.  Consider joining all columns at once using pd.concat(axis=1) instead. To get a de-fragmented frame, use `newframe = frame.copy()`\n",
            "  df[c + f\"_lag1\"] = s.shift(1)\n",
            "/content/PackBoost/examples/hull_benchmark.py:175: PerformanceWarning: DataFrame is highly fragmented.  This is usually the result of calling `frame.insert` many times, which has poor performance.  Consider joining all columns at once using pd.concat(axis=1) instead. To get a de-fragmented frame, use `newframe = frame.copy()`\n",
            "  df[c + f\"_z{window_z}\"] = z.astype(np.float32)\n",
            "/content/PackBoost/examples/hull_benchmark.py:180: PerformanceWarning: DataFrame is highly fragmented.  This is usually the result of calling `frame.insert` many times, which has poor performance.  Consider joining all columns at once using pd.concat(axis=1) instead. To get a de-fragmented frame, use `newframe = frame.copy()`\n",
            "  df[c + f\"_mom{window_mom}\"] = mom.astype(np.float32)\n",
            "/content/PackBoost/examples/hull_benchmark.py:169: PerformanceWarning: DataFrame is highly fragmented.  This is usually the result of calling `frame.insert` many times, which has poor performance.  Consider joining all columns at once using pd.concat(axis=1) instead. To get a de-fragmented frame, use `newframe = frame.copy()`\n",
            "  df[c + f\"_lag1\"] = s.shift(1)\n",
            "/content/PackBoost/examples/hull_benchmark.py:175: PerformanceWarning: DataFrame is highly fragmented.  This is usually the result of calling `frame.insert` many times, which has poor performance.  Consider joining all columns at once using pd.concat(axis=1) instead. To get a de-fragmented frame, use `newframe = frame.copy()`\n",
            "  df[c + f\"_z{window_z}\"] = z.astype(np.float32)\n",
            "/content/PackBoost/examples/hull_benchmark.py:180: PerformanceWarning: DataFrame is highly fragmented.  This is usually the result of calling `frame.insert` many times, which has poor performance.  Consider joining all columns at once using pd.concat(axis=1) instead. To get a de-fragmented frame, use `newframe = frame.copy()`\n",
            "  df[c + f\"_mom{window_mom}\"] = mom.astype(np.float32)\n",
            "/content/PackBoost/examples/hull_benchmark.py:169: PerformanceWarning: DataFrame is highly fragmented.  This is usually the result of calling `frame.insert` many times, which has poor performance.  Consider joining all columns at once using pd.concat(axis=1) instead. To get a de-fragmented frame, use `newframe = frame.copy()`\n",
            "  df[c + f\"_lag1\"] = s.shift(1)\n",
            "/content/PackBoost/examples/hull_benchmark.py:175: PerformanceWarning: DataFrame is highly fragmented.  This is usually the result of calling `frame.insert` many times, which has poor performance.  Consider joining all columns at once using pd.concat(axis=1) instead. To get a de-fragmented frame, use `newframe = frame.copy()`\n",
            "  df[c + f\"_z{window_z}\"] = z.astype(np.float32)\n",
            "/content/PackBoost/examples/hull_benchmark.py:180: PerformanceWarning: DataFrame is highly fragmented.  This is usually the result of calling `frame.insert` many times, which has poor performance.  Consider joining all columns at once using pd.concat(axis=1) instead. To get a de-fragmented frame, use `newframe = frame.copy()`\n",
            "  df[c + f\"_mom{window_mom}\"] = mom.astype(np.float32)\n",
            "/content/PackBoost/examples/hull_benchmark.py:169: PerformanceWarning: DataFrame is highly fragmented.  This is usually the result of calling `frame.insert` many times, which has poor performance.  Consider joining all columns at once using pd.concat(axis=1) instead. To get a de-fragmented frame, use `newframe = frame.copy()`\n",
            "  df[c + f\"_lag1\"] = s.shift(1)\n",
            "/content/PackBoost/examples/hull_benchmark.py:175: PerformanceWarning: DataFrame is highly fragmented.  This is usually the result of calling `frame.insert` many times, which has poor performance.  Consider joining all columns at once using pd.concat(axis=1) instead. To get a de-fragmented frame, use `newframe = frame.copy()`\n",
            "  df[c + f\"_z{window_z}\"] = z.astype(np.float32)\n",
            "/content/PackBoost/examples/hull_benchmark.py:180: PerformanceWarning: DataFrame is highly fragmented.  This is usually the result of calling `frame.insert` many times, which has poor performance.  Consider joining all columns at once using pd.concat(axis=1) instead. To get a de-fragmented frame, use `newframe = frame.copy()`\n",
            "  df[c + f\"_mom{window_mom}\"] = mom.astype(np.float32)\n",
            "/content/PackBoost/examples/hull_benchmark.py:169: PerformanceWarning: DataFrame is highly fragmented.  This is usually the result of calling `frame.insert` many times, which has poor performance.  Consider joining all columns at once using pd.concat(axis=1) instead. To get a de-fragmented frame, use `newframe = frame.copy()`\n",
            "  df[c + f\"_lag1\"] = s.shift(1)\n",
            "/content/PackBoost/examples/hull_benchmark.py:175: PerformanceWarning: DataFrame is highly fragmented.  This is usually the result of calling `frame.insert` many times, which has poor performance.  Consider joining all columns at once using pd.concat(axis=1) instead. To get a de-fragmented frame, use `newframe = frame.copy()`\n",
            "  df[c + f\"_z{window_z}\"] = z.astype(np.float32)\n",
            "/content/PackBoost/examples/hull_benchmark.py:180: PerformanceWarning: DataFrame is highly fragmented.  This is usually the result of calling `frame.insert` many times, which has poor performance.  Consider joining all columns at once using pd.concat(axis=1) instead. To get a de-fragmented frame, use `newframe = frame.copy()`\n",
            "  df[c + f\"_mom{window_mom}\"] = mom.astype(np.float32)\n",
            "/content/PackBoost/examples/hull_benchmark.py:169: PerformanceWarning: DataFrame is highly fragmented.  This is usually the result of calling `frame.insert` many times, which has poor performance.  Consider joining all columns at once using pd.concat(axis=1) instead. To get a de-fragmented frame, use `newframe = frame.copy()`\n",
            "  df[c + f\"_lag1\"] = s.shift(1)\n",
            "/content/PackBoost/examples/hull_benchmark.py:175: PerformanceWarning: DataFrame is highly fragmented.  This is usually the result of calling `frame.insert` many times, which has poor performance.  Consider joining all columns at once using pd.concat(axis=1) instead. To get a de-fragmented frame, use `newframe = frame.copy()`\n",
            "  df[c + f\"_z{window_z}\"] = z.astype(np.float32)\n",
            "/content/PackBoost/examples/hull_benchmark.py:180: PerformanceWarning: DataFrame is highly fragmented.  This is usually the result of calling `frame.insert` many times, which has poor performance.  Consider joining all columns at once using pd.concat(axis=1) instead. To get a de-fragmented frame, use `newframe = frame.copy()`\n",
            "  df[c + f\"_mom{window_mom}\"] = mom.astype(np.float32)\n",
            "/content/PackBoost/examples/hull_benchmark.py:169: PerformanceWarning: DataFrame is highly fragmented.  This is usually the result of calling `frame.insert` many times, which has poor performance.  Consider joining all columns at once using pd.concat(axis=1) instead. To get a de-fragmented frame, use `newframe = frame.copy()`\n",
            "  df[c + f\"_lag1\"] = s.shift(1)\n",
            "/content/PackBoost/examples/hull_benchmark.py:175: PerformanceWarning: DataFrame is highly fragmented.  This is usually the result of calling `frame.insert` many times, which has poor performance.  Consider joining all columns at once using pd.concat(axis=1) instead. To get a de-fragmented frame, use `newframe = frame.copy()`\n",
            "  df[c + f\"_z{window_z}\"] = z.astype(np.float32)\n",
            "/content/PackBoost/examples/hull_benchmark.py:180: PerformanceWarning: DataFrame is highly fragmented.  This is usually the result of calling `frame.insert` many times, which has poor performance.  Consider joining all columns at once using pd.concat(axis=1) instead. To get a de-fragmented frame, use `newframe = frame.copy()`\n",
            "  df[c + f\"_mom{window_mom}\"] = mom.astype(np.float32)\n",
            "/content/PackBoost/examples/hull_benchmark.py:169: PerformanceWarning: DataFrame is highly fragmented.  This is usually the result of calling `frame.insert` many times, which has poor performance.  Consider joining all columns at once using pd.concat(axis=1) instead. To get a de-fragmented frame, use `newframe = frame.copy()`\n",
            "  df[c + f\"_lag1\"] = s.shift(1)\n",
            "/content/PackBoost/examples/hull_benchmark.py:175: PerformanceWarning: DataFrame is highly fragmented.  This is usually the result of calling `frame.insert` many times, which has poor performance.  Consider joining all columns at once using pd.concat(axis=1) instead. To get a de-fragmented frame, use `newframe = frame.copy()`\n",
            "  df[c + f\"_z{window_z}\"] = z.astype(np.float32)\n",
            "/content/PackBoost/examples/hull_benchmark.py:180: PerformanceWarning: DataFrame is highly fragmented.  This is usually the result of calling `frame.insert` many times, which has poor performance.  Consider joining all columns at once using pd.concat(axis=1) instead. To get a de-fragmented frame, use `newframe = frame.copy()`\n",
            "  df[c + f\"_mom{window_mom}\"] = mom.astype(np.float32)\n",
            "/content/PackBoost/examples/hull_benchmark.py:169: PerformanceWarning: DataFrame is highly fragmented.  This is usually the result of calling `frame.insert` many times, which has poor performance.  Consider joining all columns at once using pd.concat(axis=1) instead. To get a de-fragmented frame, use `newframe = frame.copy()`\n",
            "  df[c + f\"_lag1\"] = s.shift(1)\n",
            "/content/PackBoost/examples/hull_benchmark.py:175: PerformanceWarning: DataFrame is highly fragmented.  This is usually the result of calling `frame.insert` many times, which has poor performance.  Consider joining all columns at once using pd.concat(axis=1) instead. To get a de-fragmented frame, use `newframe = frame.copy()`\n",
            "  df[c + f\"_z{window_z}\"] = z.astype(np.float32)\n",
            "/content/PackBoost/examples/hull_benchmark.py:180: PerformanceWarning: DataFrame is highly fragmented.  This is usually the result of calling `frame.insert` many times, which has poor performance.  Consider joining all columns at once using pd.concat(axis=1) instead. To get a de-fragmented frame, use `newframe = frame.copy()`\n",
            "  df[c + f\"_mom{window_mom}\"] = mom.astype(np.float32)\n",
            "/content/PackBoost/examples/hull_benchmark.py:169: PerformanceWarning: DataFrame is highly fragmented.  This is usually the result of calling `frame.insert` many times, which has poor performance.  Consider joining all columns at once using pd.concat(axis=1) instead. To get a de-fragmented frame, use `newframe = frame.copy()`\n",
            "  df[c + f\"_lag1\"] = s.shift(1)\n",
            "/content/PackBoost/examples/hull_benchmark.py:175: PerformanceWarning: DataFrame is highly fragmented.  This is usually the result of calling `frame.insert` many times, which has poor performance.  Consider joining all columns at once using pd.concat(axis=1) instead. To get a de-fragmented frame, use `newframe = frame.copy()`\n",
            "  df[c + f\"_z{window_z}\"] = z.astype(np.float32)\n",
            "/content/PackBoost/examples/hull_benchmark.py:180: PerformanceWarning: DataFrame is highly fragmented.  This is usually the result of calling `frame.insert` many times, which has poor performance.  Consider joining all columns at once using pd.concat(axis=1) instead. To get a de-fragmented frame, use `newframe = frame.copy()`\n",
            "  df[c + f\"_mom{window_mom}\"] = mom.astype(np.float32)\n",
            "/content/PackBoost/examples/hull_benchmark.py:169: PerformanceWarning: DataFrame is highly fragmented.  This is usually the result of calling `frame.insert` many times, which has poor performance.  Consider joining all columns at once using pd.concat(axis=1) instead. To get a de-fragmented frame, use `newframe = frame.copy()`\n",
            "  df[c + f\"_lag1\"] = s.shift(1)\n",
            "/content/PackBoost/examples/hull_benchmark.py:175: PerformanceWarning: DataFrame is highly fragmented.  This is usually the result of calling `frame.insert` many times, which has poor performance.  Consider joining all columns at once using pd.concat(axis=1) instead. To get a de-fragmented frame, use `newframe = frame.copy()`\n",
            "  df[c + f\"_z{window_z}\"] = z.astype(np.float32)\n",
            "/content/PackBoost/examples/hull_benchmark.py:180: PerformanceWarning: DataFrame is highly fragmented.  This is usually the result of calling `frame.insert` many times, which has poor performance.  Consider joining all columns at once using pd.concat(axis=1) instead. To get a de-fragmented frame, use `newframe = frame.copy()`\n",
            "  df[c + f\"_mom{window_mom}\"] = mom.astype(np.float32)\n",
            "/content/PackBoost/examples/hull_benchmark.py:169: PerformanceWarning: DataFrame is highly fragmented.  This is usually the result of calling `frame.insert` many times, which has poor performance.  Consider joining all columns at once using pd.concat(axis=1) instead. To get a de-fragmented frame, use `newframe = frame.copy()`\n",
            "  df[c + f\"_lag1\"] = s.shift(1)\n",
            "/content/PackBoost/examples/hull_benchmark.py:175: PerformanceWarning: DataFrame is highly fragmented.  This is usually the result of calling `frame.insert` many times, which has poor performance.  Consider joining all columns at once using pd.concat(axis=1) instead. To get a de-fragmented frame, use `newframe = frame.copy()`\n",
            "  df[c + f\"_z{window_z}\"] = z.astype(np.float32)\n",
            "/content/PackBoost/examples/hull_benchmark.py:180: PerformanceWarning: DataFrame is highly fragmented.  This is usually the result of calling `frame.insert` many times, which has poor performance.  Consider joining all columns at once using pd.concat(axis=1) instead. To get a de-fragmented frame, use `newframe = frame.copy()`\n",
            "  df[c + f\"_mom{window_mom}\"] = mom.astype(np.float32)\n",
            "/content/PackBoost/examples/hull_benchmark.py:169: PerformanceWarning: DataFrame is highly fragmented.  This is usually the result of calling `frame.insert` many times, which has poor performance.  Consider joining all columns at once using pd.concat(axis=1) instead. To get a de-fragmented frame, use `newframe = frame.copy()`\n",
            "  df[c + f\"_lag1\"] = s.shift(1)\n",
            "/content/PackBoost/examples/hull_benchmark.py:175: PerformanceWarning: DataFrame is highly fragmented.  This is usually the result of calling `frame.insert` many times, which has poor performance.  Consider joining all columns at once using pd.concat(axis=1) instead. To get a de-fragmented frame, use `newframe = frame.copy()`\n",
            "  df[c + f\"_z{window_z}\"] = z.astype(np.float32)\n",
            "/content/PackBoost/examples/hull_benchmark.py:180: PerformanceWarning: DataFrame is highly fragmented.  This is usually the result of calling `frame.insert` many times, which has poor performance.  Consider joining all columns at once using pd.concat(axis=1) instead. To get a de-fragmented frame, use `newframe = frame.copy()`\n",
            "  df[c + f\"_mom{window_mom}\"] = mom.astype(np.float32)\n",
            "/content/PackBoost/examples/hull_benchmark.py:169: PerformanceWarning: DataFrame is highly fragmented.  This is usually the result of calling `frame.insert` many times, which has poor performance.  Consider joining all columns at once using pd.concat(axis=1) instead. To get a de-fragmented frame, use `newframe = frame.copy()`\n",
            "  df[c + f\"_lag1\"] = s.shift(1)\n",
            "/content/PackBoost/examples/hull_benchmark.py:175: PerformanceWarning: DataFrame is highly fragmented.  This is usually the result of calling `frame.insert` many times, which has poor performance.  Consider joining all columns at once using pd.concat(axis=1) instead. To get a de-fragmented frame, use `newframe = frame.copy()`\n",
            "  df[c + f\"_z{window_z}\"] = z.astype(np.float32)\n",
            "/content/PackBoost/examples/hull_benchmark.py:180: PerformanceWarning: DataFrame is highly fragmented.  This is usually the result of calling `frame.insert` many times, which has poor performance.  Consider joining all columns at once using pd.concat(axis=1) instead. To get a de-fragmented frame, use `newframe = frame.copy()`\n",
            "  df[c + f\"_mom{window_mom}\"] = mom.astype(np.float32)\n",
            "/content/PackBoost/examples/hull_benchmark.py:169: PerformanceWarning: DataFrame is highly fragmented.  This is usually the result of calling `frame.insert` many times, which has poor performance.  Consider joining all columns at once using pd.concat(axis=1) instead. To get a de-fragmented frame, use `newframe = frame.copy()`\n",
            "  df[c + f\"_lag1\"] = s.shift(1)\n",
            "/content/PackBoost/examples/hull_benchmark.py:175: PerformanceWarning: DataFrame is highly fragmented.  This is usually the result of calling `frame.insert` many times, which has poor performance.  Consider joining all columns at once using pd.concat(axis=1) instead. To get a de-fragmented frame, use `newframe = frame.copy()`\n",
            "  df[c + f\"_z{window_z}\"] = z.astype(np.float32)\n",
            "/content/PackBoost/examples/hull_benchmark.py:180: PerformanceWarning: DataFrame is highly fragmented.  This is usually the result of calling `frame.insert` many times, which has poor performance.  Consider joining all columns at once using pd.concat(axis=1) instead. To get a de-fragmented frame, use `newframe = frame.copy()`\n",
            "  df[c + f\"_mom{window_mom}\"] = mom.astype(np.float32)\n",
            "/content/PackBoost/examples/hull_benchmark.py:169: PerformanceWarning: DataFrame is highly fragmented.  This is usually the result of calling `frame.insert` many times, which has poor performance.  Consider joining all columns at once using pd.concat(axis=1) instead. To get a de-fragmented frame, use `newframe = frame.copy()`\n",
            "  df[c + f\"_lag1\"] = s.shift(1)\n",
            "/content/PackBoost/examples/hull_benchmark.py:175: PerformanceWarning: DataFrame is highly fragmented.  This is usually the result of calling `frame.insert` many times, which has poor performance.  Consider joining all columns at once using pd.concat(axis=1) instead. To get a de-fragmented frame, use `newframe = frame.copy()`\n",
            "  df[c + f\"_z{window_z}\"] = z.astype(np.float32)\n",
            "/content/PackBoost/examples/hull_benchmark.py:180: PerformanceWarning: DataFrame is highly fragmented.  This is usually the result of calling `frame.insert` many times, which has poor performance.  Consider joining all columns at once using pd.concat(axis=1) instead. To get a de-fragmented frame, use `newframe = frame.copy()`\n",
            "  df[c + f\"_mom{window_mom}\"] = mom.astype(np.float32)\n",
            "/content/PackBoost/examples/hull_benchmark.py:169: PerformanceWarning: DataFrame is highly fragmented.  This is usually the result of calling `frame.insert` many times, which has poor performance.  Consider joining all columns at once using pd.concat(axis=1) instead. To get a de-fragmented frame, use `newframe = frame.copy()`\n",
            "  df[c + f\"_lag1\"] = s.shift(1)\n",
            "/content/PackBoost/examples/hull_benchmark.py:175: PerformanceWarning: DataFrame is highly fragmented.  This is usually the result of calling `frame.insert` many times, which has poor performance.  Consider joining all columns at once using pd.concat(axis=1) instead. To get a de-fragmented frame, use `newframe = frame.copy()`\n",
            "  df[c + f\"_z{window_z}\"] = z.astype(np.float32)\n",
            "/content/PackBoost/examples/hull_benchmark.py:180: PerformanceWarning: DataFrame is highly fragmented.  This is usually the result of calling `frame.insert` many times, which has poor performance.  Consider joining all columns at once using pd.concat(axis=1) instead. To get a de-fragmented frame, use `newframe = frame.copy()`\n",
            "  df[c + f\"_mom{window_mom}\"] = mom.astype(np.float32)\n",
            "/content/PackBoost/examples/hull_benchmark.py:169: PerformanceWarning: DataFrame is highly fragmented.  This is usually the result of calling `frame.insert` many times, which has poor performance.  Consider joining all columns at once using pd.concat(axis=1) instead. To get a de-fragmented frame, use `newframe = frame.copy()`\n",
            "  df[c + f\"_lag1\"] = s.shift(1)\n",
            "/content/PackBoost/examples/hull_benchmark.py:175: PerformanceWarning: DataFrame is highly fragmented.  This is usually the result of calling `frame.insert` many times, which has poor performance.  Consider joining all columns at once using pd.concat(axis=1) instead. To get a de-fragmented frame, use `newframe = frame.copy()`\n",
            "  df[c + f\"_z{window_z}\"] = z.astype(np.float32)\n",
            "/content/PackBoost/examples/hull_benchmark.py:180: PerformanceWarning: DataFrame is highly fragmented.  This is usually the result of calling `frame.insert` many times, which has poor performance.  Consider joining all columns at once using pd.concat(axis=1) instead. To get a de-fragmented frame, use `newframe = frame.copy()`\n",
            "  df[c + f\"_mom{window_mom}\"] = mom.astype(np.float32)\n",
            "/content/PackBoost/examples/hull_benchmark.py:169: PerformanceWarning: DataFrame is highly fragmented.  This is usually the result of calling `frame.insert` many times, which has poor performance.  Consider joining all columns at once using pd.concat(axis=1) instead. To get a de-fragmented frame, use `newframe = frame.copy()`\n",
            "  df[c + f\"_lag1\"] = s.shift(1)\n",
            "/content/PackBoost/examples/hull_benchmark.py:175: PerformanceWarning: DataFrame is highly fragmented.  This is usually the result of calling `frame.insert` many times, which has poor performance.  Consider joining all columns at once using pd.concat(axis=1) instead. To get a de-fragmented frame, use `newframe = frame.copy()`\n",
            "  df[c + f\"_z{window_z}\"] = z.astype(np.float32)\n",
            "/content/PackBoost/examples/hull_benchmark.py:180: PerformanceWarning: DataFrame is highly fragmented.  This is usually the result of calling `frame.insert` many times, which has poor performance.  Consider joining all columns at once using pd.concat(axis=1) instead. To get a de-fragmented frame, use `newframe = frame.copy()`\n",
            "  df[c + f\"_mom{window_mom}\"] = mom.astype(np.float32)\n",
            "/content/PackBoost/examples/hull_benchmark.py:169: PerformanceWarning: DataFrame is highly fragmented.  This is usually the result of calling `frame.insert` many times, which has poor performance.  Consider joining all columns at once using pd.concat(axis=1) instead. To get a de-fragmented frame, use `newframe = frame.copy()`\n",
            "  df[c + f\"_lag1\"] = s.shift(1)\n",
            "/content/PackBoost/examples/hull_benchmark.py:175: PerformanceWarning: DataFrame is highly fragmented.  This is usually the result of calling `frame.insert` many times, which has poor performance.  Consider joining all columns at once using pd.concat(axis=1) instead. To get a de-fragmented frame, use `newframe = frame.copy()`\n",
            "  df[c + f\"_z{window_z}\"] = z.astype(np.float32)\n",
            "/content/PackBoost/examples/hull_benchmark.py:180: PerformanceWarning: DataFrame is highly fragmented.  This is usually the result of calling `frame.insert` many times, which has poor performance.  Consider joining all columns at once using pd.concat(axis=1) instead. To get a de-fragmented frame, use `newframe = frame.copy()`\n",
            "  df[c + f\"_mom{window_mom}\"] = mom.astype(np.float32)\n",
            "/content/PackBoost/examples/hull_benchmark.py:169: PerformanceWarning: DataFrame is highly fragmented.  This is usually the result of calling `frame.insert` many times, which has poor performance.  Consider joining all columns at once using pd.concat(axis=1) instead. To get a de-fragmented frame, use `newframe = frame.copy()`\n",
            "  df[c + f\"_lag1\"] = s.shift(1)\n",
            "/content/PackBoost/examples/hull_benchmark.py:175: PerformanceWarning: DataFrame is highly fragmented.  This is usually the result of calling `frame.insert` many times, which has poor performance.  Consider joining all columns at once using pd.concat(axis=1) instead. To get a de-fragmented frame, use `newframe = frame.copy()`\n",
            "  df[c + f\"_z{window_z}\"] = z.astype(np.float32)\n",
            "/content/PackBoost/examples/hull_benchmark.py:180: PerformanceWarning: DataFrame is highly fragmented.  This is usually the result of calling `frame.insert` many times, which has poor performance.  Consider joining all columns at once using pd.concat(axis=1) instead. To get a de-fragmented frame, use `newframe = frame.copy()`\n",
            "  df[c + f\"_mom{window_mom}\"] = mom.astype(np.float32)\n",
            "/content/PackBoost/examples/hull_benchmark.py:169: PerformanceWarning: DataFrame is highly fragmented.  This is usually the result of calling `frame.insert` many times, which has poor performance.  Consider joining all columns at once using pd.concat(axis=1) instead. To get a de-fragmented frame, use `newframe = frame.copy()`\n",
            "  df[c + f\"_lag1\"] = s.shift(1)\n",
            "/content/PackBoost/examples/hull_benchmark.py:175: PerformanceWarning: DataFrame is highly fragmented.  This is usually the result of calling `frame.insert` many times, which has poor performance.  Consider joining all columns at once using pd.concat(axis=1) instead. To get a de-fragmented frame, use `newframe = frame.copy()`\n",
            "  df[c + f\"_z{window_z}\"] = z.astype(np.float32)\n",
            "/content/PackBoost/examples/hull_benchmark.py:180: PerformanceWarning: DataFrame is highly fragmented.  This is usually the result of calling `frame.insert` many times, which has poor performance.  Consider joining all columns at once using pd.concat(axis=1) instead. To get a de-fragmented frame, use `newframe = frame.copy()`\n",
            "  df[c + f\"_mom{window_mom}\"] = mom.astype(np.float32)\n",
            "/content/PackBoost/examples/hull_benchmark.py:169: PerformanceWarning: DataFrame is highly fragmented.  This is usually the result of calling `frame.insert` many times, which has poor performance.  Consider joining all columns at once using pd.concat(axis=1) instead. To get a de-fragmented frame, use `newframe = frame.copy()`\n",
            "  df[c + f\"_lag1\"] = s.shift(1)\n",
            "/content/PackBoost/examples/hull_benchmark.py:175: PerformanceWarning: DataFrame is highly fragmented.  This is usually the result of calling `frame.insert` many times, which has poor performance.  Consider joining all columns at once using pd.concat(axis=1) instead. To get a de-fragmented frame, use `newframe = frame.copy()`\n",
            "  df[c + f\"_z{window_z}\"] = z.astype(np.float32)\n",
            "/content/PackBoost/examples/hull_benchmark.py:180: PerformanceWarning: DataFrame is highly fragmented.  This is usually the result of calling `frame.insert` many times, which has poor performance.  Consider joining all columns at once using pd.concat(axis=1) instead. To get a de-fragmented frame, use `newframe = frame.copy()`\n",
            "  df[c + f\"_mom{window_mom}\"] = mom.astype(np.float32)\n",
            "/content/PackBoost/examples/hull_benchmark.py:169: PerformanceWarning: DataFrame is highly fragmented.  This is usually the result of calling `frame.insert` many times, which has poor performance.  Consider joining all columns at once using pd.concat(axis=1) instead. To get a de-fragmented frame, use `newframe = frame.copy()`\n",
            "  df[c + f\"_lag1\"] = s.shift(1)\n",
            "/content/PackBoost/examples/hull_benchmark.py:175: PerformanceWarning: DataFrame is highly fragmented.  This is usually the result of calling `frame.insert` many times, which has poor performance.  Consider joining all columns at once using pd.concat(axis=1) instead. To get a de-fragmented frame, use `newframe = frame.copy()`\n",
            "  df[c + f\"_z{window_z}\"] = z.astype(np.float32)\n",
            "/content/PackBoost/examples/hull_benchmark.py:180: PerformanceWarning: DataFrame is highly fragmented.  This is usually the result of calling `frame.insert` many times, which has poor performance.  Consider joining all columns at once using pd.concat(axis=1) instead. To get a de-fragmented frame, use `newframe = frame.copy()`\n",
            "  df[c + f\"_mom{window_mom}\"] = mom.astype(np.float32)\n",
            "/content/PackBoost/examples/hull_benchmark.py:169: PerformanceWarning: DataFrame is highly fragmented.  This is usually the result of calling `frame.insert` many times, which has poor performance.  Consider joining all columns at once using pd.concat(axis=1) instead. To get a de-fragmented frame, use `newframe = frame.copy()`\n",
            "  df[c + f\"_lag1\"] = s.shift(1)\n",
            "/content/PackBoost/examples/hull_benchmark.py:175: PerformanceWarning: DataFrame is highly fragmented.  This is usually the result of calling `frame.insert` many times, which has poor performance.  Consider joining all columns at once using pd.concat(axis=1) instead. To get a de-fragmented frame, use `newframe = frame.copy()`\n",
            "  df[c + f\"_z{window_z}\"] = z.astype(np.float32)\n",
            "/content/PackBoost/examples/hull_benchmark.py:180: PerformanceWarning: DataFrame is highly fragmented.  This is usually the result of calling `frame.insert` many times, which has poor performance.  Consider joining all columns at once using pd.concat(axis=1) instead. To get a de-fragmented frame, use `newframe = frame.copy()`\n",
            "  df[c + f\"_mom{window_mom}\"] = mom.astype(np.float32)\n",
            "/content/PackBoost/examples/hull_benchmark.py:169: PerformanceWarning: DataFrame is highly fragmented.  This is usually the result of calling `frame.insert` many times, which has poor performance.  Consider joining all columns at once using pd.concat(axis=1) instead. To get a de-fragmented frame, use `newframe = frame.copy()`\n",
            "  df[c + f\"_lag1\"] = s.shift(1)\n",
            "/content/PackBoost/examples/hull_benchmark.py:175: PerformanceWarning: DataFrame is highly fragmented.  This is usually the result of calling `frame.insert` many times, which has poor performance.  Consider joining all columns at once using pd.concat(axis=1) instead. To get a de-fragmented frame, use `newframe = frame.copy()`\n",
            "  df[c + f\"_z{window_z}\"] = z.astype(np.float32)\n",
            "/content/PackBoost/examples/hull_benchmark.py:180: PerformanceWarning: DataFrame is highly fragmented.  This is usually the result of calling `frame.insert` many times, which has poor performance.  Consider joining all columns at once using pd.concat(axis=1) instead. To get a de-fragmented frame, use `newframe = frame.copy()`\n",
            "  df[c + f\"_mom{window_mom}\"] = mom.astype(np.float32)\n",
            "/content/PackBoost/examples/hull_benchmark.py:169: PerformanceWarning: DataFrame is highly fragmented.  This is usually the result of calling `frame.insert` many times, which has poor performance.  Consider joining all columns at once using pd.concat(axis=1) instead. To get a de-fragmented frame, use `newframe = frame.copy()`\n",
            "  df[c + f\"_lag1\"] = s.shift(1)\n",
            "/content/PackBoost/examples/hull_benchmark.py:175: PerformanceWarning: DataFrame is highly fragmented.  This is usually the result of calling `frame.insert` many times, which has poor performance.  Consider joining all columns at once using pd.concat(axis=1) instead. To get a de-fragmented frame, use `newframe = frame.copy()`\n",
            "  df[c + f\"_z{window_z}\"] = z.astype(np.float32)\n",
            "/content/PackBoost/examples/hull_benchmark.py:180: PerformanceWarning: DataFrame is highly fragmented.  This is usually the result of calling `frame.insert` many times, which has poor performance.  Consider joining all columns at once using pd.concat(axis=1) instead. To get a de-fragmented frame, use `newframe = frame.copy()`\n",
            "  df[c + f\"_mom{window_mom}\"] = mom.astype(np.float32)\n",
            "/content/PackBoost/examples/hull_benchmark.py:169: PerformanceWarning: DataFrame is highly fragmented.  This is usually the result of calling `frame.insert` many times, which has poor performance.  Consider joining all columns at once using pd.concat(axis=1) instead. To get a de-fragmented frame, use `newframe = frame.copy()`\n",
            "  df[c + f\"_lag1\"] = s.shift(1)\n",
            "/content/PackBoost/examples/hull_benchmark.py:175: PerformanceWarning: DataFrame is highly fragmented.  This is usually the result of calling `frame.insert` many times, which has poor performance.  Consider joining all columns at once using pd.concat(axis=1) instead. To get a de-fragmented frame, use `newframe = frame.copy()`\n",
            "  df[c + f\"_z{window_z}\"] = z.astype(np.float32)\n",
            "/content/PackBoost/examples/hull_benchmark.py:180: PerformanceWarning: DataFrame is highly fragmented.  This is usually the result of calling `frame.insert` many times, which has poor performance.  Consider joining all columns at once using pd.concat(axis=1) instead. To get a de-fragmented frame, use `newframe = frame.copy()`\n",
            "  df[c + f\"_mom{window_mom}\"] = mom.astype(np.float32)\n",
            "/content/PackBoost/examples/hull_benchmark.py:169: PerformanceWarning: DataFrame is highly fragmented.  This is usually the result of calling `frame.insert` many times, which has poor performance.  Consider joining all columns at once using pd.concat(axis=1) instead. To get a de-fragmented frame, use `newframe = frame.copy()`\n",
            "  df[c + f\"_lag1\"] = s.shift(1)\n",
            "/content/PackBoost/examples/hull_benchmark.py:175: PerformanceWarning: DataFrame is highly fragmented.  This is usually the result of calling `frame.insert` many times, which has poor performance.  Consider joining all columns at once using pd.concat(axis=1) instead. To get a de-fragmented frame, use `newframe = frame.copy()`\n",
            "  df[c + f\"_z{window_z}\"] = z.astype(np.float32)\n",
            "/content/PackBoost/examples/hull_benchmark.py:180: PerformanceWarning: DataFrame is highly fragmented.  This is usually the result of calling `frame.insert` many times, which has poor performance.  Consider joining all columns at once using pd.concat(axis=1) instead. To get a de-fragmented frame, use `newframe = frame.copy()`\n",
            "  df[c + f\"_mom{window_mom}\"] = mom.astype(np.float32)\n",
            "/content/PackBoost/examples/hull_benchmark.py:169: PerformanceWarning: DataFrame is highly fragmented.  This is usually the result of calling `frame.insert` many times, which has poor performance.  Consider joining all columns at once using pd.concat(axis=1) instead. To get a de-fragmented frame, use `newframe = frame.copy()`\n",
            "  df[c + f\"_lag1\"] = s.shift(1)\n",
            "/content/PackBoost/examples/hull_benchmark.py:175: PerformanceWarning: DataFrame is highly fragmented.  This is usually the result of calling `frame.insert` many times, which has poor performance.  Consider joining all columns at once using pd.concat(axis=1) instead. To get a de-fragmented frame, use `newframe = frame.copy()`\n",
            "  df[c + f\"_z{window_z}\"] = z.astype(np.float32)\n",
            "/content/PackBoost/examples/hull_benchmark.py:180: PerformanceWarning: DataFrame is highly fragmented.  This is usually the result of calling `frame.insert` many times, which has poor performance.  Consider joining all columns at once using pd.concat(axis=1) instead. To get a de-fragmented frame, use `newframe = frame.copy()`\n",
            "  df[c + f\"_mom{window_mom}\"] = mom.astype(np.float32)\n",
            "/content/PackBoost/examples/hull_benchmark.py:169: PerformanceWarning: DataFrame is highly fragmented.  This is usually the result of calling `frame.insert` many times, which has poor performance.  Consider joining all columns at once using pd.concat(axis=1) instead. To get a de-fragmented frame, use `newframe = frame.copy()`\n",
            "  df[c + f\"_lag1\"] = s.shift(1)\n",
            "/content/PackBoost/examples/hull_benchmark.py:175: PerformanceWarning: DataFrame is highly fragmented.  This is usually the result of calling `frame.insert` many times, which has poor performance.  Consider joining all columns at once using pd.concat(axis=1) instead. To get a de-fragmented frame, use `newframe = frame.copy()`\n",
            "  df[c + f\"_z{window_z}\"] = z.astype(np.float32)\n",
            "/content/PackBoost/examples/hull_benchmark.py:180: PerformanceWarning: DataFrame is highly fragmented.  This is usually the result of calling `frame.insert` many times, which has poor performance.  Consider joining all columns at once using pd.concat(axis=1) instead. To get a de-fragmented frame, use `newframe = frame.copy()`\n",
            "  df[c + f\"_mom{window_mom}\"] = mom.astype(np.float32)\n",
            "/content/PackBoost/examples/hull_benchmark.py:169: PerformanceWarning: DataFrame is highly fragmented.  This is usually the result of calling `frame.insert` many times, which has poor performance.  Consider joining all columns at once using pd.concat(axis=1) instead. To get a de-fragmented frame, use `newframe = frame.copy()`\n",
            "  df[c + f\"_lag1\"] = s.shift(1)\n",
            "/content/PackBoost/examples/hull_benchmark.py:175: PerformanceWarning: DataFrame is highly fragmented.  This is usually the result of calling `frame.insert` many times, which has poor performance.  Consider joining all columns at once using pd.concat(axis=1) instead. To get a de-fragmented frame, use `newframe = frame.copy()`\n",
            "  df[c + f\"_z{window_z}\"] = z.astype(np.float32)\n",
            "/content/PackBoost/examples/hull_benchmark.py:180: PerformanceWarning: DataFrame is highly fragmented.  This is usually the result of calling `frame.insert` many times, which has poor performance.  Consider joining all columns at once using pd.concat(axis=1) instead. To get a de-fragmented frame, use `newframe = frame.copy()`\n",
            "  df[c + f\"_mom{window_mom}\"] = mom.astype(np.float32)\n",
            "/content/PackBoost/examples/hull_benchmark.py:169: PerformanceWarning: DataFrame is highly fragmented.  This is usually the result of calling `frame.insert` many times, which has poor performance.  Consider joining all columns at once using pd.concat(axis=1) instead. To get a de-fragmented frame, use `newframe = frame.copy()`\n",
            "  df[c + f\"_lag1\"] = s.shift(1)\n",
            "/content/PackBoost/examples/hull_benchmark.py:175: PerformanceWarning: DataFrame is highly fragmented.  This is usually the result of calling `frame.insert` many times, which has poor performance.  Consider joining all columns at once using pd.concat(axis=1) instead. To get a de-fragmented frame, use `newframe = frame.copy()`\n",
            "  df[c + f\"_z{window_z}\"] = z.astype(np.float32)\n",
            "/content/PackBoost/examples/hull_benchmark.py:180: PerformanceWarning: DataFrame is highly fragmented.  This is usually the result of calling `frame.insert` many times, which has poor performance.  Consider joining all columns at once using pd.concat(axis=1) instead. To get a de-fragmented frame, use `newframe = frame.copy()`\n",
            "  df[c + f\"_mom{window_mom}\"] = mom.astype(np.float32)\n",
            "/content/PackBoost/examples/hull_benchmark.py:169: PerformanceWarning: DataFrame is highly fragmented.  This is usually the result of calling `frame.insert` many times, which has poor performance.  Consider joining all columns at once using pd.concat(axis=1) instead. To get a de-fragmented frame, use `newframe = frame.copy()`\n",
            "  df[c + f\"_lag1\"] = s.shift(1)\n",
            "/content/PackBoost/examples/hull_benchmark.py:175: PerformanceWarning: DataFrame is highly fragmented.  This is usually the result of calling `frame.insert` many times, which has poor performance.  Consider joining all columns at once using pd.concat(axis=1) instead. To get a de-fragmented frame, use `newframe = frame.copy()`\n",
            "  df[c + f\"_z{window_z}\"] = z.astype(np.float32)\n",
            "/content/PackBoost/examples/hull_benchmark.py:180: PerformanceWarning: DataFrame is highly fragmented.  This is usually the result of calling `frame.insert` many times, which has poor performance.  Consider joining all columns at once using pd.concat(axis=1) instead. To get a de-fragmented frame, use `newframe = frame.copy()`\n",
            "  df[c + f\"_mom{window_mom}\"] = mom.astype(np.float32)\n",
            "/content/PackBoost/examples/hull_benchmark.py:169: PerformanceWarning: DataFrame is highly fragmented.  This is usually the result of calling `frame.insert` many times, which has poor performance.  Consider joining all columns at once using pd.concat(axis=1) instead. To get a de-fragmented frame, use `newframe = frame.copy()`\n",
            "  df[c + f\"_lag1\"] = s.shift(1)\n",
            "/content/PackBoost/examples/hull_benchmark.py:175: PerformanceWarning: DataFrame is highly fragmented.  This is usually the result of calling `frame.insert` many times, which has poor performance.  Consider joining all columns at once using pd.concat(axis=1) instead. To get a de-fragmented frame, use `newframe = frame.copy()`\n",
            "  df[c + f\"_z{window_z}\"] = z.astype(np.float32)\n",
            "/content/PackBoost/examples/hull_benchmark.py:180: PerformanceWarning: DataFrame is highly fragmented.  This is usually the result of calling `frame.insert` many times, which has poor performance.  Consider joining all columns at once using pd.concat(axis=1) instead. To get a de-fragmented frame, use `newframe = frame.copy()`\n",
            "  df[c + f\"_mom{window_mom}\"] = mom.astype(np.float32)\n",
            "/content/PackBoost/examples/hull_benchmark.py:169: PerformanceWarning: DataFrame is highly fragmented.  This is usually the result of calling `frame.insert` many times, which has poor performance.  Consider joining all columns at once using pd.concat(axis=1) instead. To get a de-fragmented frame, use `newframe = frame.copy()`\n",
            "  df[c + f\"_lag1\"] = s.shift(1)\n",
            "/content/PackBoost/examples/hull_benchmark.py:175: PerformanceWarning: DataFrame is highly fragmented.  This is usually the result of calling `frame.insert` many times, which has poor performance.  Consider joining all columns at once using pd.concat(axis=1) instead. To get a de-fragmented frame, use `newframe = frame.copy()`\n",
            "  df[c + f\"_z{window_z}\"] = z.astype(np.float32)\n",
            "/content/PackBoost/examples/hull_benchmark.py:180: PerformanceWarning: DataFrame is highly fragmented.  This is usually the result of calling `frame.insert` many times, which has poor performance.  Consider joining all columns at once using pd.concat(axis=1) instead. To get a de-fragmented frame, use `newframe = frame.copy()`\n",
            "  df[c + f\"_mom{window_mom}\"] = mom.astype(np.float32)\n",
            "/content/PackBoost/examples/hull_benchmark.py:169: PerformanceWarning: DataFrame is highly fragmented.  This is usually the result of calling `frame.insert` many times, which has poor performance.  Consider joining all columns at once using pd.concat(axis=1) instead. To get a de-fragmented frame, use `newframe = frame.copy()`\n",
            "  df[c + f\"_lag1\"] = s.shift(1)\n",
            "/content/PackBoost/examples/hull_benchmark.py:175: PerformanceWarning: DataFrame is highly fragmented.  This is usually the result of calling `frame.insert` many times, which has poor performance.  Consider joining all columns at once using pd.concat(axis=1) instead. To get a de-fragmented frame, use `newframe = frame.copy()`\n",
            "  df[c + f\"_z{window_z}\"] = z.astype(np.float32)\n",
            "/content/PackBoost/examples/hull_benchmark.py:180: PerformanceWarning: DataFrame is highly fragmented.  This is usually the result of calling `frame.insert` many times, which has poor performance.  Consider joining all columns at once using pd.concat(axis=1) instead. To get a de-fragmented frame, use `newframe = frame.copy()`\n",
            "  df[c + f\"_mom{window_mom}\"] = mom.astype(np.float32)\n",
            "/content/PackBoost/examples/hull_benchmark.py:169: PerformanceWarning: DataFrame is highly fragmented.  This is usually the result of calling `frame.insert` many times, which has poor performance.  Consider joining all columns at once using pd.concat(axis=1) instead. To get a de-fragmented frame, use `newframe = frame.copy()`\n",
            "  df[c + f\"_lag1\"] = s.shift(1)\n",
            "/content/PackBoost/examples/hull_benchmark.py:175: PerformanceWarning: DataFrame is highly fragmented.  This is usually the result of calling `frame.insert` many times, which has poor performance.  Consider joining all columns at once using pd.concat(axis=1) instead. To get a de-fragmented frame, use `newframe = frame.copy()`\n",
            "  df[c + f\"_z{window_z}\"] = z.astype(np.float32)\n",
            "/content/PackBoost/examples/hull_benchmark.py:180: PerformanceWarning: DataFrame is highly fragmented.  This is usually the result of calling `frame.insert` many times, which has poor performance.  Consider joining all columns at once using pd.concat(axis=1) instead. To get a de-fragmented frame, use `newframe = frame.copy()`\n",
            "  df[c + f\"_mom{window_mom}\"] = mom.astype(np.float32)\n",
            "/content/PackBoost/examples/hull_benchmark.py:169: PerformanceWarning: DataFrame is highly fragmented.  This is usually the result of calling `frame.insert` many times, which has poor performance.  Consider joining all columns at once using pd.concat(axis=1) instead. To get a de-fragmented frame, use `newframe = frame.copy()`\n",
            "  df[c + f\"_lag1\"] = s.shift(1)\n",
            "/content/PackBoost/examples/hull_benchmark.py:175: PerformanceWarning: DataFrame is highly fragmented.  This is usually the result of calling `frame.insert` many times, which has poor performance.  Consider joining all columns at once using pd.concat(axis=1) instead. To get a de-fragmented frame, use `newframe = frame.copy()`\n",
            "  df[c + f\"_z{window_z}\"] = z.astype(np.float32)\n",
            "/content/PackBoost/examples/hull_benchmark.py:180: PerformanceWarning: DataFrame is highly fragmented.  This is usually the result of calling `frame.insert` many times, which has poor performance.  Consider joining all columns at once using pd.concat(axis=1) instead. To get a de-fragmented frame, use `newframe = frame.copy()`\n",
            "  df[c + f\"_mom{window_mom}\"] = mom.astype(np.float32)\n",
            "/content/PackBoost/examples/hull_benchmark.py:169: PerformanceWarning: DataFrame is highly fragmented.  This is usually the result of calling `frame.insert` many times, which has poor performance.  Consider joining all columns at once using pd.concat(axis=1) instead. To get a de-fragmented frame, use `newframe = frame.copy()`\n",
            "  df[c + f\"_lag1\"] = s.shift(1)\n",
            "/content/PackBoost/examples/hull_benchmark.py:175: PerformanceWarning: DataFrame is highly fragmented.  This is usually the result of calling `frame.insert` many times, which has poor performance.  Consider joining all columns at once using pd.concat(axis=1) instead. To get a de-fragmented frame, use `newframe = frame.copy()`\n",
            "  df[c + f\"_z{window_z}\"] = z.astype(np.float32)\n",
            "/content/PackBoost/examples/hull_benchmark.py:180: PerformanceWarning: DataFrame is highly fragmented.  This is usually the result of calling `frame.insert` many times, which has poor performance.  Consider joining all columns at once using pd.concat(axis=1) instead. To get a de-fragmented frame, use `newframe = frame.copy()`\n",
            "  df[c + f\"_mom{window_mom}\"] = mom.astype(np.float32)\n",
            "/content/PackBoost/examples/hull_benchmark.py:169: PerformanceWarning: DataFrame is highly fragmented.  This is usually the result of calling `frame.insert` many times, which has poor performance.  Consider joining all columns at once using pd.concat(axis=1) instead. To get a de-fragmented frame, use `newframe = frame.copy()`\n",
            "  df[c + f\"_lag1\"] = s.shift(1)\n",
            "/content/PackBoost/examples/hull_benchmark.py:175: PerformanceWarning: DataFrame is highly fragmented.  This is usually the result of calling `frame.insert` many times, which has poor performance.  Consider joining all columns at once using pd.concat(axis=1) instead. To get a de-fragmented frame, use `newframe = frame.copy()`\n",
            "  df[c + f\"_z{window_z}\"] = z.astype(np.float32)\n",
            "/content/PackBoost/examples/hull_benchmark.py:180: PerformanceWarning: DataFrame is highly fragmented.  This is usually the result of calling `frame.insert` many times, which has poor performance.  Consider joining all columns at once using pd.concat(axis=1) instead. To get a de-fragmented frame, use `newframe = frame.copy()`\n",
            "  df[c + f\"_mom{window_mom}\"] = mom.astype(np.float32)\n",
            "/content/PackBoost/examples/hull_benchmark.py:169: PerformanceWarning: DataFrame is highly fragmented.  This is usually the result of calling `frame.insert` many times, which has poor performance.  Consider joining all columns at once using pd.concat(axis=1) instead. To get a de-fragmented frame, use `newframe = frame.copy()`\n",
            "  df[c + f\"_lag1\"] = s.shift(1)\n",
            "/content/PackBoost/examples/hull_benchmark.py:175: PerformanceWarning: DataFrame is highly fragmented.  This is usually the result of calling `frame.insert` many times, which has poor performance.  Consider joining all columns at once using pd.concat(axis=1) instead. To get a de-fragmented frame, use `newframe = frame.copy()`\n",
            "  df[c + f\"_z{window_z}\"] = z.astype(np.float32)\n",
            "/content/PackBoost/examples/hull_benchmark.py:180: PerformanceWarning: DataFrame is highly fragmented.  This is usually the result of calling `frame.insert` many times, which has poor performance.  Consider joining all columns at once using pd.concat(axis=1) instead. To get a de-fragmented frame, use `newframe = frame.copy()`\n",
            "  df[c + f\"_mom{window_mom}\"] = mom.astype(np.float32)\n",
            "/content/PackBoost/examples/hull_benchmark.py:169: PerformanceWarning: DataFrame is highly fragmented.  This is usually the result of calling `frame.insert` many times, which has poor performance.  Consider joining all columns at once using pd.concat(axis=1) instead. To get a de-fragmented frame, use `newframe = frame.copy()`\n",
            "  df[c + f\"_lag1\"] = s.shift(1)\n",
            "/content/PackBoost/examples/hull_benchmark.py:175: PerformanceWarning: DataFrame is highly fragmented.  This is usually the result of calling `frame.insert` many times, which has poor performance.  Consider joining all columns at once using pd.concat(axis=1) instead. To get a de-fragmented frame, use `newframe = frame.copy()`\n",
            "  df[c + f\"_z{window_z}\"] = z.astype(np.float32)\n",
            "/content/PackBoost/examples/hull_benchmark.py:180: PerformanceWarning: DataFrame is highly fragmented.  This is usually the result of calling `frame.insert` many times, which has poor performance.  Consider joining all columns at once using pd.concat(axis=1) instead. To get a de-fragmented frame, use `newframe = frame.copy()`\n",
            "  df[c + f\"_mom{window_mom}\"] = mom.astype(np.float32)\n",
            "/content/PackBoost/examples/hull_benchmark.py:169: PerformanceWarning: DataFrame is highly fragmented.  This is usually the result of calling `frame.insert` many times, which has poor performance.  Consider joining all columns at once using pd.concat(axis=1) instead. To get a de-fragmented frame, use `newframe = frame.copy()`\n",
            "  df[c + f\"_lag1\"] = s.shift(1)\n",
            "/content/PackBoost/examples/hull_benchmark.py:175: PerformanceWarning: DataFrame is highly fragmented.  This is usually the result of calling `frame.insert` many times, which has poor performance.  Consider joining all columns at once using pd.concat(axis=1) instead. To get a de-fragmented frame, use `newframe = frame.copy()`\n",
            "  df[c + f\"_z{window_z}\"] = z.astype(np.float32)\n",
            "/content/PackBoost/examples/hull_benchmark.py:180: PerformanceWarning: DataFrame is highly fragmented.  This is usually the result of calling `frame.insert` many times, which has poor performance.  Consider joining all columns at once using pd.concat(axis=1) instead. To get a de-fragmented frame, use `newframe = frame.copy()`\n",
            "  df[c + f\"_mom{window_mom}\"] = mom.astype(np.float32)\n",
            "/content/PackBoost/examples/hull_benchmark.py:169: PerformanceWarning: DataFrame is highly fragmented.  This is usually the result of calling `frame.insert` many times, which has poor performance.  Consider joining all columns at once using pd.concat(axis=1) instead. To get a de-fragmented frame, use `newframe = frame.copy()`\n",
            "  df[c + f\"_lag1\"] = s.shift(1)\n",
            "/content/PackBoost/examples/hull_benchmark.py:175: PerformanceWarning: DataFrame is highly fragmented.  This is usually the result of calling `frame.insert` many times, which has poor performance.  Consider joining all columns at once using pd.concat(axis=1) instead. To get a de-fragmented frame, use `newframe = frame.copy()`\n",
            "  df[c + f\"_z{window_z}\"] = z.astype(np.float32)\n",
            "/content/PackBoost/examples/hull_benchmark.py:180: PerformanceWarning: DataFrame is highly fragmented.  This is usually the result of calling `frame.insert` many times, which has poor performance.  Consider joining all columns at once using pd.concat(axis=1) instead. To get a de-fragmented frame, use `newframe = frame.copy()`\n",
            "  df[c + f\"_mom{window_mom}\"] = mom.astype(np.float32)\n",
            "/content/PackBoost/examples/hull_benchmark.py:169: PerformanceWarning: DataFrame is highly fragmented.  This is usually the result of calling `frame.insert` many times, which has poor performance.  Consider joining all columns at once using pd.concat(axis=1) instead. To get a de-fragmented frame, use `newframe = frame.copy()`\n",
            "  df[c + f\"_lag1\"] = s.shift(1)\n",
            "/content/PackBoost/examples/hull_benchmark.py:175: PerformanceWarning: DataFrame is highly fragmented.  This is usually the result of calling `frame.insert` many times, which has poor performance.  Consider joining all columns at once using pd.concat(axis=1) instead. To get a de-fragmented frame, use `newframe = frame.copy()`\n",
            "  df[c + f\"_z{window_z}\"] = z.astype(np.float32)\n",
            "/content/PackBoost/examples/hull_benchmark.py:180: PerformanceWarning: DataFrame is highly fragmented.  This is usually the result of calling `frame.insert` many times, which has poor performance.  Consider joining all columns at once using pd.concat(axis=1) instead. To get a de-fragmented frame, use `newframe = frame.copy()`\n",
            "  df[c + f\"_mom{window_mom}\"] = mom.astype(np.float32)\n",
            "/content/PackBoost/examples/hull_benchmark.py:169: PerformanceWarning: DataFrame is highly fragmented.  This is usually the result of calling `frame.insert` many times, which has poor performance.  Consider joining all columns at once using pd.concat(axis=1) instead. To get a de-fragmented frame, use `newframe = frame.copy()`\n",
            "  df[c + f\"_lag1\"] = s.shift(1)\n",
            "/content/PackBoost/examples/hull_benchmark.py:175: PerformanceWarning: DataFrame is highly fragmented.  This is usually the result of calling `frame.insert` many times, which has poor performance.  Consider joining all columns at once using pd.concat(axis=1) instead. To get a de-fragmented frame, use `newframe = frame.copy()`\n",
            "  df[c + f\"_z{window_z}\"] = z.astype(np.float32)\n",
            "/content/PackBoost/examples/hull_benchmark.py:180: PerformanceWarning: DataFrame is highly fragmented.  This is usually the result of calling `frame.insert` many times, which has poor performance.  Consider joining all columns at once using pd.concat(axis=1) instead. To get a de-fragmented frame, use `newframe = frame.copy()`\n",
            "  df[c + f\"_mom{window_mom}\"] = mom.astype(np.float32)\n",
            "/content/PackBoost/examples/hull_benchmark.py:169: PerformanceWarning: DataFrame is highly fragmented.  This is usually the result of calling `frame.insert` many times, which has poor performance.  Consider joining all columns at once using pd.concat(axis=1) instead. To get a de-fragmented frame, use `newframe = frame.copy()`\n",
            "  df[c + f\"_lag1\"] = s.shift(1)\n",
            "/content/PackBoost/examples/hull_benchmark.py:175: PerformanceWarning: DataFrame is highly fragmented.  This is usually the result of calling `frame.insert` many times, which has poor performance.  Consider joining all columns at once using pd.concat(axis=1) instead. To get a de-fragmented frame, use `newframe = frame.copy()`\n",
            "  df[c + f\"_z{window_z}\"] = z.astype(np.float32)\n",
            "/content/PackBoost/examples/hull_benchmark.py:180: PerformanceWarning: DataFrame is highly fragmented.  This is usually the result of calling `frame.insert` many times, which has poor performance.  Consider joining all columns at once using pd.concat(axis=1) instead. To get a de-fragmented frame, use `newframe = frame.copy()`\n",
            "  df[c + f\"_mom{window_mom}\"] = mom.astype(np.float32)\n",
            "/content/PackBoost/examples/hull_benchmark.py:512: PerformanceWarning: DataFrame is highly fragmented.  This is usually the result of calling `frame.insert` many times, which has poor performance.  Consider joining all columns at once using pd.concat(axis=1) instead. To get a de-fragmented frame, use `newframe = frame.copy()`\n",
            "  df[\"_era_bucket\"] = bucketize_era(df[era_col_raw], size=int(args.era_size))\n",
            "Data: rows=8,990, base features=94, engineered+base=376, unique raw eras=8990, unique bucketed eras=50\n",
            "Era mode: bucketed (size=180) | Target: market_forward_excess_returns\n",
            "Engineered on groups: ['M', 'E', 'I', 'P', 'V', 'S', 'MOM', 'D']\n",
            "Impute: ffill\n",
            "EFB (PackBoost): bundled 376 cols into 104 bundles. New PB dims: train=104, test=104\n",
            "/content/PackBoost/examples/hull_benchmark.py:73: DeprecationWarning: DataFrameGroupBy.apply operated on the grouping columns. This behavior is deprecated, and in a future version of pandas the grouping columns will be excluded from the operation. Either pass `include_groups=False` to exclude the groupings or explicitly select the grouping columns after groupby to silence this warning.\n",
            "  cors = df.groupby(\"era\", sort=False).apply(\n",
            "/content/PackBoost/examples/hull_benchmark.py:73: DeprecationWarning: DataFrameGroupBy.apply operated on the grouping columns. This behavior is deprecated, and in a future version of pandas the grouping columns will be excluded from the operation. Either pass `include_groups=False` to exclude the groupings or explicitly select the grouping columns after groupby to silence this warning.\n",
            "  cors = df.groupby(\"era\", sort=False).apply(\n",
            "/content/PackBoost/examples/hull_benchmark.py:73: DeprecationWarning: DataFrameGroupBy.apply operated on the grouping columns. This behavior is deprecated, and in a future version of pandas the grouping columns will be excluded from the operation. Either pass `include_groups=False` to exclude the groupings or explicitly select the grouping columns after groupby to silence this warning.\n",
            "  cors = df.groupby(\"era\", sort=False).apply(\n",
            "/content/PackBoost/examples/hull_benchmark.py:73: DeprecationWarning: DataFrameGroupBy.apply operated on the grouping columns. This behavior is deprecated, and in a future version of pandas the grouping columns will be excluded from the operation. Either pass `include_groups=False` to exclude the groupings or explicitly select the grouping columns after groupby to silence this warning.\n",
            "  cors = df.groupby(\"era\", sort=False).apply(\n",
            "\n",
            "Model         Fit (s)   Predict (s)     R^2   EraMeanCorr   EraSharpe   LastNSharpe   HullPenalized\n",
            "--------------------------------------------------------------------------------------------------------------\n",
            "PackBoost      37.106        1.738  -0.1541      -0.0143         nan        0.5672        0.3947\n",
            "XGBoost         2.114        0.003  -0.1595       0.0085         nan        0.8433        0.4192\n",
            "LightGBM        3.237        0.004  -0.1359       0.0590         nan        0.0250       -0.0300\n",
            "CatBoost        8.873        0.002  -0.1128      -0.0006         nan        0.1056       -0.0145\n"
          ]
        }
      ]
    },
    {
      "cell_type": "code",
      "source": [],
      "metadata": {
        "id": "i9dHovf3IW5v"
      },
      "id": "i9dHovf3IW5v",
      "execution_count": null,
      "outputs": []
    },
    {
      "cell_type": "code",
      "source": [
        "!pip install catboost"
      ],
      "metadata": {
        "colab": {
          "base_uri": "https://localhost:8080/"
        },
        "id": "8P3Ou_wN1t4n",
        "outputId": "4da4e56c-2582-4993-e28a-9cc2edfaca85"
      },
      "id": "8P3Ou_wN1t4n",
      "execution_count": 4,
      "outputs": [
        {
          "output_type": "stream",
          "name": "stdout",
          "text": [
            "Collecting catboost\n",
            "  Downloading catboost-1.2.8-cp312-cp312-manylinux2014_x86_64.whl.metadata (1.2 kB)\n",
            "Requirement already satisfied: graphviz in /usr/local/lib/python3.12/dist-packages (from catboost) (0.21)\n",
            "Requirement already satisfied: matplotlib in /usr/local/lib/python3.12/dist-packages (from catboost) (3.10.0)\n",
            "Requirement already satisfied: numpy<3.0,>=1.16.0 in /usr/local/lib/python3.12/dist-packages (from catboost) (2.0.2)\n",
            "Requirement already satisfied: pandas>=0.24 in /usr/local/lib/python3.12/dist-packages (from catboost) (2.2.2)\n",
            "Requirement already satisfied: scipy in /usr/local/lib/python3.12/dist-packages (from catboost) (1.16.2)\n",
            "Requirement already satisfied: plotly in /usr/local/lib/python3.12/dist-packages (from catboost) (5.24.1)\n",
            "Requirement already satisfied: six in /usr/local/lib/python3.12/dist-packages (from catboost) (1.17.0)\n",
            "Requirement already satisfied: python-dateutil>=2.8.2 in /usr/local/lib/python3.12/dist-packages (from pandas>=0.24->catboost) (2.9.0.post0)\n",
            "Requirement already satisfied: pytz>=2020.1 in /usr/local/lib/python3.12/dist-packages (from pandas>=0.24->catboost) (2025.2)\n",
            "Requirement already satisfied: tzdata>=2022.7 in /usr/local/lib/python3.12/dist-packages (from pandas>=0.24->catboost) (2025.2)\n",
            "Requirement already satisfied: contourpy>=1.0.1 in /usr/local/lib/python3.12/dist-packages (from matplotlib->catboost) (1.3.3)\n",
            "Requirement already satisfied: cycler>=0.10 in /usr/local/lib/python3.12/dist-packages (from matplotlib->catboost) (0.12.1)\n",
            "Requirement already satisfied: fonttools>=4.22.0 in /usr/local/lib/python3.12/dist-packages (from matplotlib->catboost) (4.60.0)\n",
            "Requirement already satisfied: kiwisolver>=1.3.1 in /usr/local/lib/python3.12/dist-packages (from matplotlib->catboost) (1.4.9)\n",
            "Requirement already satisfied: packaging>=20.0 in /usr/local/lib/python3.12/dist-packages (from matplotlib->catboost) (25.0)\n",
            "Requirement already satisfied: pillow>=8 in /usr/local/lib/python3.12/dist-packages (from matplotlib->catboost) (11.3.0)\n",
            "Requirement already satisfied: pyparsing>=2.3.1 in /usr/local/lib/python3.12/dist-packages (from matplotlib->catboost) (3.2.4)\n",
            "Requirement already satisfied: tenacity>=6.2.0 in /usr/local/lib/python3.12/dist-packages (from plotly->catboost) (8.5.0)\n",
            "Downloading catboost-1.2.8-cp312-cp312-manylinux2014_x86_64.whl (99.2 MB)\n",
            "\u001b[2K   \u001b[90m━━━━━━━━━━━━━━━━━━━━━━━━━━━━━━━━━━━━━━━━\u001b[0m \u001b[32m99.2/99.2 MB\u001b[0m \u001b[31m20.2 MB/s\u001b[0m eta \u001b[36m0:00:00\u001b[0m\n",
            "\u001b[?25hInstalling collected packages: catboost\n",
            "Successfully installed catboost-1.2.8\n"
          ]
        }
      ]
    },
    {
      "cell_type": "code",
      "source": [
        "!python examples/synthetic_benchmark.py"
      ],
      "metadata": {
        "colab": {
          "base_uri": "https://localhost:8080/"
        },
        "id": "KrzNh8y41oTg",
        "outputId": "66332dc9-f3b9-4a5c-d7cc-6f43d84de4fb"
      },
      "id": "KrzNh8y41oTg",
      "execution_count": 5,
      "outputs": [
        {
          "output_type": "stream",
          "name": "stdout",
          "text": [
            "Model         Fit (s)   Predict (s)   R^2\n",
            "--------------------------------------------\n",
            "PackBoost       5.999        2.200  0.2033\n",
            "XGBoost         0.855        0.004  0.9619\n",
            "LightGBM        0.477        0.010  0.9413\n",
            "CatBoost        1.087        0.002  0.9915\n"
          ]
        }
      ]
    },
    {
      "cell_type": "code",
      "source": [
        "%cd PackBoost"
      ],
      "metadata": {
        "id": "3F49uVr7QWal",
        "outputId": "45f4adb8-cb72-4a71-950b-ebdcc62d1707",
        "colab": {
          "base_uri": "https://localhost:8080/"
        }
      },
      "id": "3F49uVr7QWal",
      "execution_count": 1,
      "outputs": [
        {
          "output_type": "stream",
          "name": "stdout",
          "text": [
            "/content/PackBoost\n"
          ]
        }
      ]
    },
    {
      "cell_type": "code",
      "source": [
        "!rm -rf build"
      ],
      "metadata": {
        "id": "8rDfN8QHQdzf"
      },
      "id": "8rDfN8QHQdzf",
      "execution_count": 2,
      "outputs": []
    },
    {
      "cell_type": "code",
      "source": [
        "!find packboost -name \"_backend*.so\" -delete"
      ],
      "metadata": {
        "id": "DgD7MzIOQmWz"
      },
      "id": "DgD7MzIOQmWz",
      "execution_count": 3,
      "outputs": []
    },
    {
      "cell_type": "code",
      "source": [
        "!python setup_native.py build_ext --inplace"
      ],
      "metadata": {
        "colab": {
          "base_uri": "https://localhost:8080/"
        },
        "id": "8lBc4Lzkts-m",
        "outputId": "d75e6686-fc72-4ffb-f1b2-f951add81925"
      },
      "id": "8lBc4Lzkts-m",
      "execution_count": 4,
      "outputs": [
        {
          "output_type": "stream",
          "name": "stdout",
          "text": [
            "[setup] compiling CUDA backend: /usr/local/cuda/bin/nvcc -std=c++17 -O3 -Xcompiler -fPIC -c /content/PackBoost/packboost/backends/cuda/frontier_cuda.cu -o /content/PackBoost/build/temp/backend_cuda.o -gencode arch=compute_70,code=sm_70 -gencode arch=compute_70,code=compute_70 -gencode arch=compute_75,code=sm_75 -gencode arch=compute_75,code=compute_75 -gencode arch=compute_80,code=sm_80 -gencode arch=compute_80,code=compute_80 -gencode arch=compute_86,code=sm_86 -gencode arch=compute_86,code=compute_86 -I /usr/local/lib/python3.12/dist-packages/pybind11/include -I /usr/local/lib/python3.12/dist-packages/pybind11/include -I /usr/include/python3.12 -I /usr/local/lib/python3.12/dist-packages/numpy/_core/include -I packboost/backends -DPACKBOOST_ENABLE_CUDA=1\n",
            "\u001b[01m\u001b[0m\u001b[01m/content/PackBoost/packboost/backends/cuda/frontier_cuda.cu(129)\u001b[0m: \u001b[01;35mwarning\u001b[0m #177-D: variable \u001b[01m\"lane\"\u001b[0m was declared but never referenced\n",
            "    const int lane = threadIdx.x & (WARP_SIZE-1);\n",
            "              ^\n",
            "\n",
            "\u001b[01;36m\u001b[0m\u001b[01;36mRemark\u001b[0m: The warnings can be suppressed with \"-diag-suppress <warning-number>\"\n",
            "\n",
            "\u001b[01m\u001b[0m\u001b[01m/content/PackBoost/packboost/backends/cuda/frontier_cuda.cu(129)\u001b[0m: \u001b[01;35mwarning\u001b[0m #177-D: variable \u001b[01m\"lane\"\u001b[0m was declared but never referenced\n",
            "    const int lane = threadIdx.x & (WARP_SIZE-1);\n",
            "              ^\n",
            "\n",
            "\u001b[01;36m\u001b[0m\u001b[01;36mRemark\u001b[0m: The warnings can be suppressed with \"-diag-suppress <warning-number>\"\n",
            "\n",
            "\u001b[01m\u001b[0m\u001b[01m/content/PackBoost/packboost/backends/cuda/frontier_cuda.cu(129)\u001b[0m: \u001b[01;35mwarning\u001b[0m #177-D: variable \u001b[01m\"lane\"\u001b[0m was declared but never referenced\n",
            "    const int lane = threadIdx.x & (WARP_SIZE-1);\n",
            "              ^\n",
            "\n",
            "\u001b[01;36m\u001b[0m\u001b[01;36mRemark\u001b[0m: The warnings can be suppressed with \"-diag-suppress <warning-number>\"\n",
            "\n",
            "\u001b[01m\u001b[0m\u001b[01m/content/PackBoost/packboost/backends/cuda/frontier_cuda.cu(129)\u001b[0m: \u001b[01;35mwarning\u001b[0m #177-D: variable \u001b[01m\"lane\"\u001b[0m was declared but never referenced\n",
            "    const int lane = threadIdx.x & (WARP_SIZE-1);\n",
            "              ^\n",
            "\n",
            "\u001b[01;36m\u001b[0m\u001b[01;36mRemark\u001b[0m: The warnings can be suppressed with \"-diag-suppress <warning-number>\"\n",
            "\n",
            "running build_ext\n",
            "x86_64-linux-gnu-g++ -fno-strict-overflow -Wsign-compare -DNDEBUG -g -O2 -Wall -g -fstack-protector-strong -Wformat -Werror=format-security -g -fwrapv -O2 -fPIC -I/usr/include/python3.12 -c flagcheck.cpp -o flagcheck.o -std=c++17\n",
            "building 'packboost._backend' extension\n",
            "creating build/temp.linux-x86_64-cpython-312/packboost/backends\n",
            "creating build/temp.linux-x86_64-cpython-312/packboost/backends/cpu\n",
            "x86_64-linux-gnu-g++ -fno-strict-overflow -Wsign-compare -DNDEBUG -g -O2 -Wall -g -fstack-protector-strong -Wformat -Werror=format-security -g -fwrapv -O2 -fPIC -DPACKBOOST_ENABLE_CUDA=1 -Ipackboost/backends -I/usr/local/lib/python3.12/dist-packages/numpy/_core/include -I/usr/local/lib/python3.12/dist-packages/pybind11/include -I/usr/include/python3.12 -c packboost/backends/bindings.cpp -o build/temp.linux-x86_64-cpython-312/packboost/backends/bindings.o -std=c++17 -fvisibility=hidden -g0 -O3 -std=c++17 -fvisibility=hidden -fopenmp\n",
            "x86_64-linux-gnu-g++ -fno-strict-overflow -Wsign-compare -DNDEBUG -g -O2 -Wall -g -fstack-protector-strong -Wformat -Werror=format-security -g -fwrapv -O2 -fPIC -DPACKBOOST_ENABLE_CUDA=1 -Ipackboost/backends -I/usr/local/lib/python3.12/dist-packages/numpy/_core/include -I/usr/local/lib/python3.12/dist-packages/pybind11/include -I/usr/include/python3.12 -c packboost/backends/cpu/frontier_cpu.cpp -o build/temp.linux-x86_64-cpython-312/packboost/backends/cpu/frontier_cpu.o -std=c++17 -fvisibility=hidden -g0 -O3 -std=c++17 -fvisibility=hidden -fopenmp\n",
            "\u001b[01m\u001b[Kpackboost/backends/cpu/frontier_cpu.cpp:\u001b[m\u001b[K In function ‘\u001b[01m\u001b[Kpybind11::tuple {anonymous}::find_best_splits_batched_cpu(pybind11::array_t<signed char, 17>, pybind11::array_t<float, 17>, const pybind11::list&, pybind11::array_t<int, 17>, int, int, const string&, float, float, float, float, int)\u001b[m\u001b[K’:\n",
            "\u001b[01m\u001b[Kpackboost/backends/cpu/frontier_cpu.cpp:148:35:\u001b[m\u001b[K \u001b[01;35m\u001b[Kwarning: \u001b[m\u001b[Kcomparison of integer expressions of different signedness: ‘\u001b[01m\u001b[Kpybind11::ssize_t\u001b[m\u001b[K’ {aka ‘\u001b[01m\u001b[Klong int\u001b[m\u001b[K’} and ‘\u001b[01m\u001b[Kpybind11::size_t\u001b[m\u001b[K’ {aka ‘\u001b[01m\u001b[Klong unsigned int\u001b[m\u001b[K’} [\u001b[01;35m\u001b[K\u001b]8;;https://gcc.gnu.org/onlinedocs/gcc/Warning-Options.html#index-Wsign-compare\u0007-Wsign-compare\u001b]8;;\u0007\u001b[m\u001b[K]\n",
            "  148 |     for (py::ssize_t idx = 0; \u001b[01;35m\u001b[Kidx < nodes_era_rows.size()\u001b[m\u001b[K; ++idx) {\n",
            "      |                               \u001b[01;35m\u001b[K~~~~^~~~~~~~~~~~~~~~~~~~~~~\u001b[m\u001b[K\n",
            "\u001b[01m\u001b[Kpackboost/backends/cpu/frontier_cpu.cpp:163:35:\u001b[m\u001b[K \u001b[01;35m\u001b[Kwarning: \u001b[m\u001b[Kcomparison of integer expressions of different signedness: ‘\u001b[01m\u001b[Kpybind11::ssize_t\u001b[m\u001b[K’ {aka ‘\u001b[01m\u001b[Klong int\u001b[m\u001b[K’} and ‘\u001b[01m\u001b[Kpybind11::size_t\u001b[m\u001b[K’ {aka ‘\u001b[01m\u001b[Klong unsigned int\u001b[m\u001b[K’} [\u001b[01;35m\u001b[K\u001b]8;;https://gcc.gnu.org/onlinedocs/gcc/Warning-Options.html#index-Wsign-compare\u0007-Wsign-compare\u001b]8;;\u0007\u001b[m\u001b[K]\n",
            "  163 |         for (py::ssize_t e = 0; \u001b[01;35m\u001b[Ke < eras.size()\u001b[m\u001b[K; ++e) {\n",
            "      |                                 \u001b[01;35m\u001b[K~~^~~~~~~~~~~~~\u001b[m\u001b[K\n",
            "creating build/lib.linux-x86_64-cpython-312/packboost\n",
            "x86_64-linux-gnu-g++ -fno-strict-overflow -Wsign-compare -DNDEBUG -g -O2 -Wall -g -fstack-protector-strong -Wformat -Werror=format-security -g -fwrapv -O2 -shared -Wl,-O1 -Wl,-Bsymbolic-functions -Wl,-Bsymbolic-functions -g -fwrapv -O2 build/temp.linux-x86_64-cpython-312/packboost/backends/bindings.o build/temp.linux-x86_64-cpython-312/packboost/backends/cpu/frontier_cpu.o /content/PackBoost/build/temp/backend_cuda.o -L/usr/local/cuda-12.5/lib64 -L/usr/lib/x86_64-linux-gnu -Wl,--enable-new-dtags,-rpath,/usr/local/cuda-12.5/lib64 -lcudart -o build/lib.linux-x86_64-cpython-312/packboost/_backend.cpython-312-x86_64-linux-gnu.so -fopenmp\n",
            "copying build/lib.linux-x86_64-cpython-312/packboost/_backend.cpython-312-x86_64-linux-gnu.so -> packboost\n"
          ]
        }
      ]
    },
    {
      "cell_type": "code",
      "source": [
        "!pip install pybind11"
      ],
      "metadata": {
        "colab": {
          "base_uri": "https://localhost:8080/"
        },
        "id": "RVCGLY3Fp2GJ",
        "outputId": "f9c31a61-6576-43c4-e5ed-97b59fedb48f"
      },
      "id": "RVCGLY3Fp2GJ",
      "execution_count": 1,
      "outputs": [
        {
          "output_type": "stream",
          "name": "stdout",
          "text": [
            "Collecting pybind11\n",
            "  Downloading pybind11-3.0.1-py3-none-any.whl.metadata (10.0 kB)\n",
            "Downloading pybind11-3.0.1-py3-none-any.whl (293 kB)\n",
            "\u001b[?25l   \u001b[90m━━━━━━━━━━━━━━━━━━━━━━━━━━━━━━━━━━━━━━━━\u001b[0m \u001b[32m0.0/293.6 kB\u001b[0m \u001b[31m?\u001b[0m eta \u001b[36m-:--:--\u001b[0m\r\u001b[2K   \u001b[90m━━━━━━━━━━━━━━━━━━━━━━━━━━━━━━━━━━━━━━━━\u001b[0m \u001b[32m293.6/293.6 kB\u001b[0m \u001b[31m13.4 MB/s\u001b[0m eta \u001b[36m0:00:00\u001b[0m\n",
            "\u001b[?25hInstalling collected packages: pybind11\n",
            "Successfully installed pybind11-3.0.1\n"
          ]
        }
      ]
    },
    {
      "cell_type": "code",
      "execution_count": 2,
      "metadata": {
        "id": "install-packboost",
        "colab": {
          "base_uri": "https://localhost:8080/"
        },
        "outputId": "cc763307-1796-4bed-abf7-7f40cc91cfcf"
      },
      "outputs": [
        {
          "output_type": "stream",
          "name": "stdout",
          "text": [
            "PackBoost ready.\n"
          ]
        }
      ],
      "source": [
        "#@title Install PackBoost and dependencies\n",
        "REPO_URL = \"https://github.com/Pranshu-Bahadur/PackBoost.git\"  # change if using a fork\n",
        "\n",
        "import subprocess, sys, os\n",
        "\n",
        "if not os.path.exists('PackBoost'):\n",
        "    subprocess.run(['git', 'clone', REPO_URL, 'PackBoost'], check=True)\n",
        "\n",
        "os.chdir('PackBoost')\n",
        "\n",
        "# Build native extensions (enables CUDA frontier when nvcc is present)\n",
        "subprocess.run([sys.executable, 'setup_native.py', 'build_ext', '--inplace'], check=True)\n",
        "\n",
        "# Install in editable mode so notebooks can import packboost\n",
        "subprocess.run([sys.executable, '-m', 'pip', 'install', '-e', '.'], check=True)\n",
        "\n",
        "print('PackBoost ready.')\n"
      ],
      "id": "install-packboost"
    },
    {
      "cell_type": "markdown",
      "metadata": {
        "id": "67b4rPc_pxy8"
      },
      "source": [
        "## Download Numerai data\n",
        "\n",
        "This cell pulls the v5.0 training and validation parquet files. Provide keys if you plan to\n",
        "upload diagnostics later.\n"
      ],
      "id": "67b4rPc_pxy8"
    },
    {
      "cell_type": "code",
      "source": [
        "!pip install numerapi"
      ],
      "metadata": {
        "colab": {
          "base_uri": "https://localhost:8080/"
        },
        "id": "bFiYERJ8rBaM",
        "outputId": "8818e734-b917-486c-f1a6-9f669860fec3"
      },
      "id": "bFiYERJ8rBaM",
      "execution_count": 3,
      "outputs": [
        {
          "output_type": "stream",
          "name": "stdout",
          "text": [
            "Collecting numerapi\n",
            "  Downloading numerapi-2.20.8-py3-none-any.whl.metadata (7.0 kB)\n",
            "Requirement already satisfied: requests in /usr/local/lib/python3.12/dist-packages (from numerapi) (2.32.4)\n",
            "Requirement already satisfied: pytz in /usr/local/lib/python3.12/dist-packages (from numerapi) (2025.2)\n",
            "Requirement already satisfied: python-dateutil in /usr/local/lib/python3.12/dist-packages (from numerapi) (2.9.0.post0)\n",
            "Requirement already satisfied: tqdm>=4.29.1 in /usr/local/lib/python3.12/dist-packages (from numerapi) (4.67.1)\n",
            "Requirement already satisfied: click>=7.0 in /usr/local/lib/python3.12/dist-packages (from numerapi) (8.2.1)\n",
            "Requirement already satisfied: pandas>=1.1.0 in /usr/local/lib/python3.12/dist-packages (from numerapi) (2.2.2)\n",
            "Requirement already satisfied: numpy>=1.26.0 in /usr/local/lib/python3.12/dist-packages (from pandas>=1.1.0->numerapi) (2.0.2)\n",
            "Requirement already satisfied: tzdata>=2022.7 in /usr/local/lib/python3.12/dist-packages (from pandas>=1.1.0->numerapi) (2025.2)\n",
            "Requirement already satisfied: six>=1.5 in /usr/local/lib/python3.12/dist-packages (from python-dateutil->numerapi) (1.17.0)\n",
            "Requirement already satisfied: charset_normalizer<4,>=2 in /usr/local/lib/python3.12/dist-packages (from requests->numerapi) (3.4.3)\n",
            "Requirement already satisfied: idna<4,>=2.5 in /usr/local/lib/python3.12/dist-packages (from requests->numerapi) (3.10)\n",
            "Requirement already satisfied: urllib3<3,>=1.21.1 in /usr/local/lib/python3.12/dist-packages (from requests->numerapi) (2.5.0)\n",
            "Requirement already satisfied: certifi>=2017.4.17 in /usr/local/lib/python3.12/dist-packages (from requests->numerapi) (2025.8.3)\n",
            "Downloading numerapi-2.20.8-py3-none-any.whl (26 kB)\n",
            "Installing collected packages: numerapi\n",
            "Successfully installed numerapi-2.20.8\n"
          ]
        }
      ]
    },
    {
      "cell_type": "code",
      "execution_count": 5,
      "metadata": {
        "id": "download-data"
      },
      "outputs": [],
      "source": [
        "from numerapi import NumerAPI\n",
        "from pathlib import Path\n",
        "import json\n",
        "import pandas as pd\n",
        "\n",
        "DATA_VERSION = 'v5.0'\n",
        "DATA_DIR = Path('numerai-data')\n",
        "DATA_DIR.mkdir(exist_ok=True)\n",
        "\n",
        "napi = NumerAPI()\n",
        "\n",
        "feature_path = DATA_DIR / 'features.json'\n",
        "train_path = DATA_DIR / 'train.parquet'\n",
        "valid_path = DATA_DIR / 'validation.parquet'\n",
        "\n",
        "if not feature_path.exists():\n",
        "    napi.download_dataset(f\"{DATA_VERSION}/features.json\", str(feature_path))\n",
        "if not train_path.exists():\n",
        "    napi.download_dataset(f\"{DATA_VERSION}/train.parquet\", str(train_path))\n",
        "if not valid_path.exists():\n",
        "    napi.download_dataset(f\"{DATA_VERSION}/validation.parquet\", str(valid_path))\n",
        "\n",
        "with feature_path.open('r', encoding='utf-8') as fh:\n",
        "    FEATURES = json.load(fh)['feature_sets']['all']\n"
      ],
      "id": "download-data"
    },
    {
      "cell_type": "markdown",
      "metadata": {
        "id": "SW4fbP13pxy8"
      },
      "source": [
        "## Preprocess\n",
        "\n",
        "* Convert targets to float32 and drop rows where the target is NaN.\n",
        "* Bucket consecutive eras into groups of configurable size (default 64).\n",
        "* Leave features as int8 bins so we can set `prebinned=True`.\n"
      ],
      "id": "SW4fbP13pxy8"
    },
    {
      "cell_type": "code",
      "execution_count": 6,
      "metadata": {
        "id": "preprocess",
        "colab": {
          "base_uri": "https://localhost:8080/"
        },
        "outputId": "c5e2aba4-fcf5-4418-90be-a42bbf55588d"
      },
      "outputs": [
        {
          "output_type": "execute_result",
          "data": {
            "text/plain": [
              "33"
            ]
          },
          "metadata": {},
          "execution_count": 6
        }
      ],
      "source": [
        "import numpy as np\n",
        "import torch\n",
        "import gc\n",
        "\n",
        "ERA_BUCKET_SIZE = 64  # feel free to tweak\n",
        "\n",
        "train_df = pd.read_parquet(train_path)\n",
        "train_df = train_df.dropna(subset=['target']).reset_index(drop=True)\n",
        "train_df['era'] = train_df['era'].astype(np.int16)\n",
        "train_df['era_bucket'] = (train_df['era'] // ERA_BUCKET_SIZE).astype(np.int16)\n",
        "\n",
        "Xt = train_df[FEATURES].astype(np.int8).values\n",
        "yt = train_df['target'].astype(np.float32).values\n",
        "Et = train_df['era_bucket'].to_numpy(np.int16)\n",
        "\n",
        "valid_df = pd.read_parquet(valid_path)\n",
        "valid_df = valid_df.dropna(subset=['target']).reset_index(drop=True)\n",
        "valid_df['era'] = valid_df['era'].astype(np.int16)\n",
        "valid_df['era_bucket'] = (valid_df['era'] // ERA_BUCKET_SIZE).astype(np.int16)\n",
        "\n",
        "Xv = valid_df[FEATURES].astype(np.int8).values\n",
        "Yv = valid_df['target'].astype(np.float32).values\n",
        "Ev = valid_df['era_bucket'].to_numpy(np.int16)\n",
        "\n",
        "del train_df\n",
        "gc.collect()\n"
      ],
      "id": "preprocess"
    },
    {
      "cell_type": "markdown",
      "metadata": {
        "id": "Y8uMLsMZpxy8"
      },
      "source": [
        "## Train PackBoost with CUDA frontier\n",
        "\n",
        "The training loop logs metrics each round (train/validation correlation and trees per second).\n"
      ],
      "id": "Y8uMLsMZpxy8"
    },
    {
      "cell_type": "code",
      "execution_count": null,
      "metadata": {
        "id": "train",
        "colab": {
          "base_uri": "https://localhost:8080/"
        },
        "outputId": "5caa4623-b71b-4a47-c8ef-288a2cea66c0"
      },
      "outputs": [
        {
          "output_type": "stream",
          "name": "stdout",
          "text": [
            "CUDA backend available: True\n",
            "Round   1: train_corr=+0.0076 valid_corr=-0.0005 trees/s=0.30\n",
            "Round   2: train_corr=+0.0112 valid_corr=+0.0009 trees/s=0.31\n",
            "Round   3: train_corr=+0.0136 valid_corr=+0.0013 trees/s=0.31\n",
            "Round   4: train_corr=+0.0138 valid_corr=+0.0017 trees/s=0.31\n",
            "Round   5: train_corr=+0.0143 valid_corr=+0.0019 trees/s=0.31\n",
            "Round   6: train_corr=+0.0167 valid_corr=+0.0028 trees/s=0.31\n",
            "Round   7: train_corr=+0.0176 valid_corr=+0.0033 trees/s=0.31\n",
            "Round   8: train_corr=+0.0178 valid_corr=+0.0038 trees/s=0.31\n"
          ]
        }
      ],
      "source": [
        "from packboost.booster import PackBoost\n",
        "from packboost.config import PackBoostConfig\n",
        "from packboost import backends\n",
        "from time import perf_counter\n",
        "import pandas as pd\n",
        "\n",
        "print('CUDA backend available:', backends.cuda_available())\n",
        "\n",
        "DEVICE = torch.device('cuda' if torch.cuda.is_available() else 'cpu')\n",
        "\n",
        "config = PackBoostConfig(\n",
        "    pack_size=8,\n",
        "    max_depth=7,\n",
        "    learning_rate=0.1,\n",
        "    lambda_l2=1e-6,\n",
        "    lambda_dro=0.0,\n",
        "    direction_weight=0.0,\n",
        "    min_samples_leaf=20,\n",
        "    max_bins=5,\n",
        "    k_cuts=4,\n",
        "    cut_selection='even',\n",
        "    device=str(DEVICE),\n",
        "    prebinned=True,\n",
        "    layer_feature_fraction=0.0135,\n",
        "    random_state=42,\n",
        "    histogram_mode='subtract'\n",
        ")\n",
        "\n",
        "round_logs = []\n",
        "\n",
        "def log_round(idx: int, metrics: dict[str, float]) -> None:\n",
        "    print(f\"Round {metrics['round']:>3}: train_corr={metrics['train_corr']:+.4f} \"\n",
        "          f\"valid_corr={metrics.get('valid_corr', float('nan')):+.4f} \"\n",
        "          f\"trees/s={metrics['trees_per_second']:.2f}\")\n",
        "    round_logs.append(metrics)\n",
        "\n",
        "booster = PackBoost(config)\n",
        "start = perf_counter()\n",
        "booster.fit(\n",
        "    Xt,\n",
        "    yt,\n",
        "    None, #Et\n",
        "    num_rounds=5000,\n",
        "    eval_sets=[('valid', Xv, Yv, None)],\n",
        "    round_callback=log_round,\n",
        ")\n",
        "elapsed = perf_counter() - start\n",
        "print(f\"Finished training in {elapsed:.2f} seconds\")\n",
        "\n",
        "metrics_df = pd.DataFrame(round_logs)\n",
        "metrics_df\n"
      ],
      "id": "train"
    },
    {
      "cell_type": "markdown",
      "metadata": {
        "id": "XKddr1wZpxy9"
      },
      "source": [
        "## Plot per-round correlation\n"
      ],
      "id": "XKddr1wZpxy9"
    },
    {
      "cell_type": "code",
      "execution_count": null,
      "metadata": {
        "id": "plot"
      },
      "outputs": [],
      "source": [
        "import matplotlib.pyplot as plt\n",
        "if not metrics_df.empty:\n",
        "    ax = metrics_df.plot(x='round', y=['train_corr', 'valid_corr'], marker='o')\n",
        "    ax.set_ylabel('Correlation')\n",
        "    ax.set_title('PackBoost correlation per round')\n",
        "    ax.grid(True)\n",
        "    plt.show()\n"
      ],
      "id": "plot"
    },
    {
      "cell_type": "markdown",
      "metadata": {
        "id": "VDY8fVd0pxy9"
      },
      "source": [
        "## Generate validation predictions\n",
        "\n",
        "Predictions are normalised to the [0,1] range expected by Numerai diagnostics.\n"
      ],
      "id": "VDY8fVd0pxy9"
    },
    {
      "cell_type": "code",
      "execution_count": null,
      "metadata": {
        "id": "predict"
      },
      "outputs": [],
      "source": [
        "pred_valid = booster.predict(Xv)\n",
        "\n",
        "pred_norm = pred_valid.copy()\n",
        "pred_norm -= pred_norm.min()\n",
        "if pred_norm.max() > 0:\n",
        "    pred_norm /= pred_norm.max()\n",
        "pred_norm = np.clip(pred_norm * 0.98 + 0.01, 0.0, 1.0)\n",
        "\n",
        "submission = pd.DataFrame({'prediction': pred_norm})\n",
        "submission.to_csv('packboost_predictions.csv', index=False)\n",
        "print('Saved packboost_predictions.csv')\n",
        "\n",
        "gc.collect()\n"
      ],
      "id": "predict"
    }
  ],
  "metadata": {
    "kernelspec": {
      "display_name": "Python 3",
      "name": "python3"
    },
    "language_info": {
      "name": "python",
      "version": "3.12"
    },
    "colab": {
      "provenance": [],
      "machine_shape": "hm",
      "gpuType": "A100"
    },
    "accelerator": "GPU"
  },
  "nbformat": 4,
  "nbformat_minor": 5
}